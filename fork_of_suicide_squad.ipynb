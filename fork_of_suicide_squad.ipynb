{
  "metadata": {
    "kernelspec": {
      "language": "python",
      "display_name": "Python 3",
      "name": "python3"
    },
    "language_info": {
      "pygments_lexer": "ipython3",
      "nbconvert_exporter": "python",
      "version": "3.6.4",
      "file_extension": ".py",
      "codemirror_mode": {
        "name": "ipython",
        "version": 3
      },
      "name": "python",
      "mimetype": "text/x-python"
    },
    "colab": {
      "name": "fork-of-suicide-squad (1).ipynb",
      "provenance": [],
      "include_colab_link": true
    }
  },
  "nbformat_minor": 0,
  "nbformat": 4,
  "cells": [
    {
      "cell_type": "markdown",
      "metadata": {
        "id": "view-in-github",
        "colab_type": "text"
      },
      "source": [
        "<a href=\"https://colab.research.google.com/github/IdrissaMoussaAdamou/Kaggle-Rossman-Store-Sales/blob/main/fork_of_suicide_squad.ipynb\" target=\"_parent\"><img src=\"https://colab.research.google.com/assets/colab-badge.svg\" alt=\"Open In Colab\"/></a>"
      ]
    },
    {
      "cell_type": "code",
      "source": [
        "# This Python 3 environment comes with many helpful analytics libraries installed\n",
        "# It is defined by the kaggle/python Docker image: https://github.com/kaggle/docker-python\n",
        "# For example, here's several helpful packages to load\n",
        "\n",
        "import numpy as np # linear algebra\n",
        "import pandas as pd # data processing, CSV file I/O (e.g. pd.read_csv)\n",
        "\n",
        "# Input data files are available in the read-only \"../input/\" directory\n",
        "# For example, running this (by clicking run or pressing Shift+Enter) will list all files under the input directory\n",
        "#idrissa\n",
        "\n",
        "import os\n",
        "for dirname, _, filenames in os.walk('/kaggle/input'):\n",
        "    for filename in filenames:\n",
        "        print(os.path.join(dirname, filename))\n",
        "\n",
        "# You can write up to 20GB to the current directory (/kaggle/working/) that gets preserved as output when you create a version using \"Save & Run All\" \n",
        "# You can also write temporary files to /kaggle/temp/, but they won't be saved outside of the current session"
      ],
      "metadata": {
        "_uuid": "8f2839f25d086af736a60e9eeb907d3b93b6e0e5",
        "_cell_guid": "b1076dfc-b9ad-4769-8c92-a6c4dae69d19",
        "execution": {
          "iopub.status.busy": "2022-03-30T16:50:39.437367Z",
          "iopub.execute_input": "2022-03-30T16:50:39.438156Z",
          "iopub.status.idle": "2022-03-30T16:50:39.46862Z",
          "shell.execute_reply.started": "2022-03-30T16:50:39.438047Z",
          "shell.execute_reply": "2022-03-30T16:50:39.467932Z"
        },
        "trusted": true,
        "id": "Xzfq0GAql4-S"
      },
      "execution_count": null,
      "outputs": []
    },
    {
      "cell_type": "markdown",
      "source": [
        "# *Analysis*"
      ],
      "metadata": {
        "id": "x6iRY1IKl4-a"
      }
    },
    {
      "cell_type": "code",
      "source": [
        "# import necessary libraries.\n",
        "\n",
        "import pandas as pd\n",
        "import numpy as np\n",
        "import matplotlib.pyplot as plt\n",
        "import scipy.stats as stats\n",
        "import seaborn as sns"
      ],
      "metadata": {
        "execution": {
          "iopub.status.busy": "2022-03-30T17:47:04.213576Z",
          "iopub.execute_input": "2022-03-30T17:47:04.213854Z",
          "iopub.status.idle": "2022-03-30T17:47:04.218036Z",
          "shell.execute_reply.started": "2022-03-30T17:47:04.213826Z",
          "shell.execute_reply": "2022-03-30T17:47:04.217356Z"
        },
        "trusted": true,
        "id": "YHNVL5jZl4-d"
      },
      "execution_count": null,
      "outputs": []
    },
    {
      "cell_type": "code",
      "source": [
        "# import data. Be careful for Date type, String type (factors in R).\n",
        "\n",
        "train = pd.read_csv(\"/kaggle/input/rossmann-store-sales/train.csv\", sep=',', parse_dates=['Date'],\n",
        "                    dtype={'StateHoliday': str, 'SchoolHoliday':str})\n",
        "\n",
        "test = pd.read_csv(\"/kaggle/input/rossmann-store-sales/test.csv\", sep=\",\", index_col = 'Id', parse_dates=['Date'],\n",
        "                  dtype={'StateHoliday': str, 'SchoolHoliday':str})\n",
        "\n",
        "store = pd.read_csv(\"/kaggle/input/rossmann-store-sales/store.csv\", sep=\",\", dtype={'StoreType': str,\n",
        "                                                      'Assortment': str,\n",
        "                                                      'PromoInterval': str})"
      ],
      "metadata": {
        "execution": {
          "iopub.status.busy": "2022-03-30T17:47:14.829704Z",
          "iopub.execute_input": "2022-03-30T17:47:14.830149Z",
          "iopub.status.idle": "2022-03-30T17:47:15.822558Z",
          "shell.execute_reply.started": "2022-03-30T17:47:14.83011Z",
          "shell.execute_reply": "2022-03-30T17:47:15.821689Z"
        },
        "trusted": true,
        "id": "efVXOqZAl4-e"
      },
      "execution_count": null,
      "outputs": []
    },
    {
      "cell_type": "markdown",
      "source": [
        "**1) Train Dataset**"
      ],
      "metadata": {
        "id": "MTkYLngol4-g"
      }
    },
    {
      "cell_type": "code",
      "source": [
        "train.dtypes"
      ],
      "metadata": {
        "execution": {
          "iopub.status.busy": "2022-03-30T17:47:19.553887Z",
          "iopub.execute_input": "2022-03-30T17:47:19.55441Z",
          "iopub.status.idle": "2022-03-30T17:47:19.561984Z",
          "shell.execute_reply.started": "2022-03-30T17:47:19.554377Z",
          "shell.execute_reply": "2022-03-30T17:47:19.561166Z"
        },
        "trusted": true,
        "id": "9sy_7IPol4-h"
      },
      "execution_count": null,
      "outputs": []
    },
    {
      "cell_type": "code",
      "source": [
        "train.isnull().sum()"
      ],
      "metadata": {
        "execution": {
          "iopub.status.busy": "2022-03-30T16:56:45.444927Z",
          "iopub.execute_input": "2022-03-30T16:56:45.44538Z",
          "iopub.status.idle": "2022-03-30T16:56:45.682822Z",
          "shell.execute_reply.started": "2022-03-30T16:56:45.445345Z",
          "shell.execute_reply": "2022-03-30T16:56:45.682202Z"
        },
        "trusted": true,
        "id": "SFnZpaLMl4-i"
      },
      "execution_count": null,
      "outputs": []
    },
    {
      "cell_type": "code",
      "source": [
        "# Inspecting train data - See first rows.\n",
        "train.head()"
      ],
      "metadata": {
        "execution": {
          "iopub.status.busy": "2022-03-30T16:50:41.99945Z",
          "iopub.execute_input": "2022-03-30T16:50:41.999781Z",
          "iopub.status.idle": "2022-03-30T16:50:42.020788Z",
          "shell.execute_reply.started": "2022-03-30T16:50:41.999736Z",
          "shell.execute_reply": "2022-03-30T16:50:42.019961Z"
        },
        "trusted": true,
        "id": "Dg6J33Nol4-k"
      },
      "execution_count": null,
      "outputs": []
    },
    {
      "cell_type": "code",
      "source": [
        "train.tail()"
      ],
      "metadata": {
        "execution": {
          "iopub.status.busy": "2022-03-30T16:50:42.022366Z",
          "iopub.execute_input": "2022-03-30T16:50:42.022837Z",
          "iopub.status.idle": "2022-03-30T16:50:42.040163Z",
          "shell.execute_reply.started": "2022-03-30T16:50:42.022797Z",
          "shell.execute_reply": "2022-03-30T16:50:42.039341Z"
        },
        "trusted": true,
        "id": "8LbC5KQel4-l"
      },
      "execution_count": null,
      "outputs": []
    },
    {
      "cell_type": "code",
      "source": [
        "#train.ix[train['Open'] == 1, 'Sales'].mean()\n",
        "train[train['Open'] == 0].Sales.describe()"
      ],
      "metadata": {
        "execution": {
          "iopub.status.busy": "2022-03-30T16:50:42.041905Z",
          "iopub.execute_input": "2022-03-30T16:50:42.042122Z",
          "iopub.status.idle": "2022-03-30T16:50:42.079946Z",
          "shell.execute_reply.started": "2022-03-30T16:50:42.042095Z",
          "shell.execute_reply": "2022-03-30T16:50:42.079016Z"
        },
        "trusted": true,
        "id": "bgJ3nnG7l4-n"
      },
      "execution_count": null,
      "outputs": []
    },
    {
      "cell_type": "code",
      "source": [
        "train['Year'] = pd.DatetimeIndex(train['Date']).year\n",
        "train['Month'] = pd.DatetimeIndex(train['Date']).month\n",
        "#train['Day'] = pd.DatetimeIndex(train['Date']).day"
      ],
      "metadata": {
        "execution": {
          "iopub.status.busy": "2022-03-30T17:47:55.944913Z",
          "iopub.execute_input": "2022-03-30T17:47:55.945185Z",
          "iopub.status.idle": "2022-03-30T17:47:56.135516Z",
          "shell.execute_reply.started": "2022-03-30T17:47:55.945157Z",
          "shell.execute_reply": "2022-03-30T17:47:56.134692Z"
        },
        "trusted": true,
        "id": "GZrbTxcIl4-o"
      },
      "execution_count": null,
      "outputs": []
    },
    {
      "cell_type": "code",
      "source": [
        "train.head()"
      ],
      "metadata": {
        "execution": {
          "iopub.status.busy": "2022-03-30T16:50:42.278621Z",
          "iopub.execute_input": "2022-03-30T16:50:42.278828Z",
          "iopub.status.idle": "2022-03-30T16:50:42.297884Z",
          "shell.execute_reply.started": "2022-03-30T16:50:42.278802Z",
          "shell.execute_reply": "2022-03-30T16:50:42.29698Z"
        },
        "trusted": true,
        "id": "wXRZDgq2l4-o"
      },
      "execution_count": null,
      "outputs": []
    },
    {
      "cell_type": "code",
      "source": [
        "train = train[['Store', 'DayOfWeek', 'Date', 'Year', 'Month', 'Customers', 'Open',\n",
        "               'Promo', 'StateHoliday', 'SchoolHoliday', 'Sales']]\n",
        "list(train.columns.values)\n",
        "#print(train.head())"
      ],
      "metadata": {
        "execution": {
          "iopub.status.busy": "2022-03-30T17:48:01.144464Z",
          "iopub.execute_input": "2022-03-30T17:48:01.14515Z",
          "iopub.status.idle": "2022-03-30T17:48:01.355619Z",
          "shell.execute_reply.started": "2022-03-30T17:48:01.145113Z",
          "shell.execute_reply": "2022-03-30T17:48:01.354668Z"
        },
        "trusted": true,
        "id": "QXYWUOygl4-p"
      },
      "execution_count": null,
      "outputs": []
    },
    {
      "cell_type": "code",
      "source": [
        "train.dtypes"
      ],
      "metadata": {
        "execution": {
          "iopub.status.busy": "2022-03-30T16:50:42.410584Z",
          "iopub.execute_input": "2022-03-30T16:50:42.410825Z",
          "iopub.status.idle": "2022-03-30T16:50:42.418094Z",
          "shell.execute_reply.started": "2022-03-30T16:50:42.410798Z",
          "shell.execute_reply": "2022-03-30T16:50:42.41731Z"
        },
        "trusted": true,
        "id": "1ts5xi0_l4-q"
      },
      "execution_count": null,
      "outputs": []
    },
    {
      "cell_type": "code",
      "source": [
        "train[\"StateHoliday\"].unique()"
      ],
      "metadata": {
        "execution": {
          "iopub.status.busy": "2022-03-30T16:57:36.379016Z",
          "iopub.execute_input": "2022-03-30T16:57:36.379349Z",
          "iopub.status.idle": "2022-03-30T16:57:36.461375Z",
          "shell.execute_reply.started": "2022-03-30T16:57:36.379314Z",
          "shell.execute_reply": "2022-03-30T16:57:36.460228Z"
        },
        "trusted": true,
        "id": "v_r99n5ml4-r"
      },
      "execution_count": null,
      "outputs": []
    },
    {
      "cell_type": "code",
      "source": [
        "train[\"SchoolHoliday\"].unique()"
      ],
      "metadata": {
        "execution": {
          "iopub.status.busy": "2022-03-30T16:57:38.863943Z",
          "iopub.execute_input": "2022-03-30T16:57:38.864772Z",
          "iopub.status.idle": "2022-03-30T16:57:38.945795Z",
          "shell.execute_reply.started": "2022-03-30T16:57:38.864729Z",
          "shell.execute_reply": "2022-03-30T16:57:38.945112Z"
        },
        "trusted": true,
        "id": "HaDdifAsl4-r"
      },
      "execution_count": null,
      "outputs": []
    },
    {
      "cell_type": "code",
      "source": [
        "# It worked, now automatize the process.\n",
        "\n",
        "def factor_to_integer(df, colname, start_value=0):\n",
        "    while df[colname].dtype == object:\n",
        "        myval = start_value # factor starts at \"start_value\".\n",
        "        for sval in df[colname].unique():\n",
        "            df.loc[df[colname] == sval, colname] = myval\n",
        "            myval += 1\n",
        "        df[colname] = df[colname].astype(int, copy=False)\n",
        "    print('levels :', df[colname].unique(), '; data type :', df[colname].dtype)"
      ],
      "metadata": {
        "execution": {
          "iopub.status.busy": "2022-03-30T17:48:09.047606Z",
          "iopub.execute_input": "2022-03-30T17:48:09.047913Z",
          "iopub.status.idle": "2022-03-30T17:48:09.054621Z",
          "shell.execute_reply.started": "2022-03-30T17:48:09.047869Z",
          "shell.execute_reply": "2022-03-30T17:48:09.053767Z"
        },
        "trusted": true,
        "id": "PbH6OI3_l4-s"
      },
      "execution_count": null,
      "outputs": []
    },
    {
      "cell_type": "code",
      "source": [
        "factor_to_integer(train, 'StateHoliday')\n"
      ],
      "metadata": {
        "execution": {
          "iopub.status.busy": "2022-03-30T17:48:11.967345Z",
          "iopub.execute_input": "2022-03-30T17:48:11.968031Z",
          "iopub.status.idle": "2022-03-30T17:48:12.840227Z",
          "shell.execute_reply.started": "2022-03-30T17:48:11.967999Z",
          "shell.execute_reply": "2022-03-30T17:48:12.839358Z"
        },
        "trusted": true,
        "id": "K467JqIJl4-s"
      },
      "execution_count": null,
      "outputs": []
    },
    {
      "cell_type": "code",
      "source": [
        "factor_to_integer(train, 'SchoolHoliday')"
      ],
      "metadata": {
        "execution": {
          "iopub.status.busy": "2022-03-30T17:48:14.491398Z",
          "iopub.execute_input": "2022-03-30T17:48:14.491987Z",
          "iopub.status.idle": "2022-03-30T17:48:15.000641Z",
          "shell.execute_reply.started": "2022-03-30T17:48:14.491937Z",
          "shell.execute_reply": "2022-03-30T17:48:14.999708Z"
        },
        "trusted": true,
        "id": "vHYGBVbZl4-t"
      },
      "execution_count": null,
      "outputs": []
    },
    {
      "cell_type": "code",
      "source": [
        "train.dtypes"
      ],
      "metadata": {
        "execution": {
          "iopub.status.busy": "2022-03-30T16:50:44.04839Z",
          "iopub.execute_input": "2022-03-30T16:50:44.048744Z",
          "iopub.status.idle": "2022-03-30T16:50:44.057394Z",
          "shell.execute_reply.started": "2022-03-30T16:50:44.048699Z",
          "shell.execute_reply": "2022-03-30T16:50:44.056463Z"
        },
        "trusted": true,
        "id": "Of5XfszBl4-t"
      },
      "execution_count": null,
      "outputs": []
    },
    {
      "cell_type": "code",
      "source": [
        "print(train.describe())"
      ],
      "metadata": {
        "execution": {
          "iopub.status.busy": "2022-03-30T16:50:44.059151Z",
          "iopub.execute_input": "2022-03-30T16:50:44.059725Z",
          "iopub.status.idle": "2022-03-30T16:50:44.419555Z",
          "shell.execute_reply.started": "2022-03-30T16:50:44.059672Z",
          "shell.execute_reply": "2022-03-30T16:50:44.418686Z"
        },
        "trusted": true,
        "id": "MF6Eneh4l4-u"
      },
      "execution_count": null,
      "outputs": []
    },
    {
      "cell_type": "code",
      "source": [
        "train['Open'].unique()"
      ],
      "metadata": {
        "execution": {
          "iopub.status.busy": "2022-03-30T16:50:44.421044Z",
          "iopub.execute_input": "2022-03-30T16:50:44.421528Z",
          "iopub.status.idle": "2022-03-30T16:50:44.436958Z",
          "shell.execute_reply.started": "2022-03-30T16:50:44.421486Z",
          "shell.execute_reply": "2022-03-30T16:50:44.436117Z"
        },
        "trusted": true,
        "id": "1aVLgAKLl4-u"
      },
      "execution_count": null,
      "outputs": []
    },
    {
      "cell_type": "code",
      "source": [
        "train = train[['Store', 'DayOfWeek', 'Date', 'Year', 'Month', 'Customers', 'Open',\n",
        "               'Promo', 'StateHoliday', 'SchoolHoliday', 'Sales']]\n",
        "list(train.columns.values)"
      ],
      "metadata": {
        "execution": {
          "iopub.status.busy": "2022-03-30T17:48:21.557778Z",
          "iopub.execute_input": "2022-03-30T17:48:21.558561Z",
          "iopub.status.idle": "2022-03-30T17:48:21.690373Z",
          "shell.execute_reply.started": "2022-03-30T17:48:21.558508Z",
          "shell.execute_reply": "2022-03-30T17:48:21.689531Z"
        },
        "trusted": true,
        "id": "ZU97OED0l4-v"
      },
      "execution_count": null,
      "outputs": []
    },
    {
      "cell_type": "code",
      "source": [
        "print(\"NANs for individual columns\")\n",
        "print(\"---------------------------\")\n",
        "from collections import Counter\n",
        "x = {colname : train[colname].isnull().sum() for colname in train.columns}\n",
        "Counter(x).most_common()"
      ],
      "metadata": {
        "execution": {
          "iopub.status.busy": "2022-03-30T16:50:44.48049Z",
          "iopub.execute_input": "2022-03-30T16:50:44.480845Z",
          "iopub.status.idle": "2022-03-30T16:50:44.506324Z",
          "shell.execute_reply.started": "2022-03-30T16:50:44.480816Z",
          "shell.execute_reply": "2022-03-30T16:50:44.50576Z"
        },
        "trusted": true,
        "id": "oryTLdILl4-w"
      },
      "execution_count": null,
      "outputs": []
    },
    {
      "cell_type": "code",
      "source": [
        "train.dtypes"
      ],
      "metadata": {
        "execution": {
          "iopub.status.busy": "2022-03-30T16:58:14.938109Z",
          "iopub.execute_input": "2022-03-30T16:58:14.938502Z",
          "iopub.status.idle": "2022-03-30T16:58:14.947234Z",
          "shell.execute_reply.started": "2022-03-30T16:58:14.938456Z",
          "shell.execute_reply": "2022-03-30T16:58:14.946218Z"
        },
        "trusted": true,
        "id": "V50nuympl4-w"
      },
      "execution_count": null,
      "outputs": []
    },
    {
      "cell_type": "code",
      "source": [
        "train.isnull().sum()"
      ],
      "metadata": {
        "execution": {
          "iopub.status.busy": "2022-03-30T16:58:53.49259Z",
          "iopub.execute_input": "2022-03-30T16:58:53.492897Z",
          "iopub.status.idle": "2022-03-30T16:58:53.517754Z",
          "shell.execute_reply.started": "2022-03-30T16:58:53.492865Z",
          "shell.execute_reply": "2022-03-30T16:58:53.516816Z"
        },
        "trusted": true,
        "id": "ip9w8RC9l4-w"
      },
      "execution_count": null,
      "outputs": []
    },
    {
      "cell_type": "code",
      "source": [
        "corMat = pd.DataFrame(train.loc[:, ['DayOfWeek', 'Sales', 'Month', 'Year', 'Customers', 'Promo',\n",
        "                                    'StateHoliday', 'SchoolHoliday']].corr())\n",
        "print(corMat)"
      ],
      "metadata": {
        "execution": {
          "iopub.status.busy": "2022-03-30T16:50:44.507314Z",
          "iopub.execute_input": "2022-03-30T16:50:44.507626Z",
          "iopub.status.idle": "2022-03-30T16:50:44.804664Z",
          "shell.execute_reply.started": "2022-03-30T16:50:44.507599Z",
          "shell.execute_reply": "2022-03-30T16:50:44.802166Z"
        },
        "trusted": true,
        "id": "p2J0ux2pl4-x"
      },
      "execution_count": null,
      "outputs": []
    },
    {
      "cell_type": "code",
      "source": [
        "sns.heatmap(data=corMat)\n",
        "plt.show()"
      ],
      "metadata": {
        "execution": {
          "iopub.status.busy": "2022-03-30T16:50:44.80663Z",
          "iopub.execute_input": "2022-03-30T16:50:44.807242Z",
          "iopub.status.idle": "2022-03-30T16:50:45.179207Z",
          "shell.execute_reply.started": "2022-03-30T16:50:44.807185Z",
          "shell.execute_reply": "2022-03-30T16:50:45.178595Z"
        },
        "trusted": true,
        "id": "LtzNgRPJl4-x"
      },
      "execution_count": null,
      "outputs": []
    },
    {
      "cell_type": "markdown",
      "source": [
        "**2) Test Dataset**"
      ],
      "metadata": {
        "id": "VTRMSOazl4-y"
      }
    },
    {
      "cell_type": "code",
      "source": [
        "test.dtypes"
      ],
      "metadata": {
        "execution": {
          "iopub.status.busy": "2022-03-30T17:12:49.475975Z",
          "iopub.execute_input": "2022-03-30T17:12:49.477516Z",
          "iopub.status.idle": "2022-03-30T17:12:49.488185Z",
          "shell.execute_reply.started": "2022-03-30T17:12:49.477463Z",
          "shell.execute_reply": "2022-03-30T17:12:49.487521Z"
        },
        "trusted": true,
        "id": "q87aBibZl4-y"
      },
      "execution_count": null,
      "outputs": []
    },
    {
      "cell_type": "code",
      "source": [
        "test.isnull().sum()"
      ],
      "metadata": {
        "execution": {
          "iopub.status.busy": "2022-03-30T17:13:09.750722Z",
          "iopub.execute_input": "2022-03-30T17:13:09.751521Z",
          "iopub.status.idle": "2022-03-30T17:13:09.780835Z",
          "shell.execute_reply.started": "2022-03-30T17:13:09.751486Z",
          "shell.execute_reply": "2022-03-30T17:13:09.779863Z"
        },
        "trusted": true,
        "id": "YH8SfHIhl4-z"
      },
      "execution_count": null,
      "outputs": []
    },
    {
      "cell_type": "code",
      "source": [
        "test['Year'] = pd.DatetimeIndex(test['Date']).year\n",
        "test['Month'] = pd.DatetimeIndex(test['Date']).month\n",
        "#test['Day'] = pd.DatetimeIndex(test['Date']).day"
      ],
      "metadata": {
        "execution": {
          "iopub.status.busy": "2022-03-30T17:48:33.661391Z",
          "iopub.execute_input": "2022-03-30T17:48:33.662022Z",
          "iopub.status.idle": "2022-03-30T17:48:33.67686Z",
          "shell.execute_reply.started": "2022-03-30T17:48:33.661983Z",
          "shell.execute_reply": "2022-03-30T17:48:33.675911Z"
        },
        "trusted": true,
        "id": "PYS36grLl4-z"
      },
      "execution_count": null,
      "outputs": []
    },
    {
      "cell_type": "code",
      "source": [
        "test.head()"
      ],
      "metadata": {
        "execution": {
          "iopub.status.busy": "2022-03-30T16:50:45.201398Z",
          "iopub.execute_input": "2022-03-30T16:50:45.202146Z",
          "iopub.status.idle": "2022-03-30T16:50:45.218994Z",
          "shell.execute_reply.started": "2022-03-30T16:50:45.202099Z",
          "shell.execute_reply": "2022-03-30T16:50:45.218129Z"
        },
        "trusted": true,
        "id": "jhjNCI5al4-z"
      },
      "execution_count": null,
      "outputs": []
    },
    {
      "cell_type": "code",
      "source": [
        "test.dtypes"
      ],
      "metadata": {
        "execution": {
          "iopub.status.busy": "2022-03-30T16:50:45.220796Z",
          "iopub.execute_input": "2022-03-30T16:50:45.221299Z",
          "iopub.status.idle": "2022-03-30T16:50:45.231052Z",
          "shell.execute_reply.started": "2022-03-30T16:50:45.221237Z",
          "shell.execute_reply": "2022-03-30T16:50:45.230294Z"
        },
        "trusted": true,
        "id": "tb1NFZc1l4-0"
      },
      "execution_count": null,
      "outputs": []
    },
    {
      "cell_type": "code",
      "source": [
        "test['Open'].unique()"
      ],
      "metadata": {
        "execution": {
          "iopub.status.busy": "2022-03-30T16:50:45.2332Z",
          "iopub.execute_input": "2022-03-30T16:50:45.233864Z",
          "iopub.status.idle": "2022-03-30T16:50:45.242863Z",
          "shell.execute_reply.started": "2022-03-30T16:50:45.233815Z",
          "shell.execute_reply": "2022-03-30T16:50:45.242029Z"
        },
        "trusted": true,
        "id": "ov2UVgrql4-0"
      },
      "execution_count": null,
      "outputs": []
    },
    {
      "cell_type": "code",
      "source": [
        "sum(test['Open'] == 0)"
      ],
      "metadata": {
        "execution": {
          "iopub.status.busy": "2022-03-30T16:50:45.244076Z",
          "iopub.execute_input": "2022-03-30T16:50:45.244665Z",
          "iopub.status.idle": "2022-03-30T16:50:45.260409Z",
          "shell.execute_reply.started": "2022-03-30T16:50:45.244625Z",
          "shell.execute_reply": "2022-03-30T16:50:45.259748Z"
        },
        "trusted": true,
        "id": "4snbYZ-Fl4-0"
      },
      "execution_count": null,
      "outputs": []
    },
    {
      "cell_type": "code",
      "source": [
        "sum(test['Open'] == 1)"
      ],
      "metadata": {
        "execution": {
          "iopub.status.busy": "2022-03-30T16:50:45.266841Z",
          "iopub.execute_input": "2022-03-30T16:50:45.267372Z",
          "iopub.status.idle": "2022-03-30T16:50:45.281559Z",
          "shell.execute_reply.started": "2022-03-30T16:50:45.267324Z",
          "shell.execute_reply": "2022-03-30T16:50:45.280863Z"
        },
        "trusted": true,
        "id": "q8BtW-JMl4-1"
      },
      "execution_count": null,
      "outputs": []
    },
    {
      "cell_type": "code",
      "source": [
        "sum(test['Open'].isnull())"
      ],
      "metadata": {
        "execution": {
          "iopub.status.busy": "2022-03-30T16:50:45.283013Z",
          "iopub.execute_input": "2022-03-30T16:50:45.283415Z",
          "iopub.status.idle": "2022-03-30T16:50:45.294937Z",
          "shell.execute_reply.started": "2022-03-30T16:50:45.283378Z",
          "shell.execute_reply": "2022-03-30T16:50:45.29431Z"
        },
        "trusted": true,
        "id": "BYHlo98Ul4-1"
      },
      "execution_count": null,
      "outputs": []
    },
    {
      "cell_type": "code",
      "source": [
        "test = test[['Store', 'DayOfWeek', 'Date', 'Year', 'Month', 'Open',\n",
        "             'Promo', 'StateHoliday', 'SchoolHoliday']]\n",
        "list(test.columns.values)"
      ],
      "metadata": {
        "execution": {
          "iopub.status.busy": "2022-03-30T17:48:40.062967Z",
          "iopub.execute_input": "2022-03-30T17:48:40.063249Z",
          "iopub.status.idle": "2022-03-30T17:48:40.073839Z",
          "shell.execute_reply.started": "2022-03-30T17:48:40.063219Z",
          "shell.execute_reply": "2022-03-30T17:48:40.07285Z"
        },
        "trusted": true,
        "id": "ckXdGqYOl4-1"
      },
      "execution_count": null,
      "outputs": []
    },
    {
      "cell_type": "code",
      "source": [
        "test.dtypes"
      ],
      "metadata": {
        "execution": {
          "iopub.status.busy": "2022-03-30T16:50:45.318134Z",
          "iopub.execute_input": "2022-03-30T16:50:45.31861Z",
          "iopub.status.idle": "2022-03-30T16:50:45.328888Z",
          "shell.execute_reply.started": "2022-03-30T16:50:45.318576Z",
          "shell.execute_reply": "2022-03-30T16:50:45.328211Z"
        },
        "trusted": true,
        "id": "6iZPJUpbl4-2"
      },
      "execution_count": null,
      "outputs": []
    },
    {
      "cell_type": "code",
      "source": [
        "print(\"NANs for individual columns\")\n",
        "print(\"---------------------------\")\n",
        "from collections import Counter\n",
        "x = {colname : test[colname].isnull().sum() for colname in test.columns}\n",
        "Counter(x).most_common()"
      ],
      "metadata": {
        "execution": {
          "iopub.status.busy": "2022-03-30T16:50:45.330104Z",
          "iopub.execute_input": "2022-03-30T16:50:45.330542Z",
          "iopub.status.idle": "2022-03-30T16:50:45.355053Z",
          "shell.execute_reply.started": "2022-03-30T16:50:45.330458Z",
          "shell.execute_reply": "2022-03-30T16:50:45.354457Z"
        },
        "trusted": true,
        "id": "x7zGvcsql4-2"
      },
      "execution_count": null,
      "outputs": []
    },
    {
      "cell_type": "code",
      "source": [
        "print(test[np.isnan(test['Open'])])"
      ],
      "metadata": {
        "execution": {
          "iopub.status.busy": "2022-03-30T16:50:45.356075Z",
          "iopub.execute_input": "2022-03-30T16:50:45.356702Z",
          "iopub.status.idle": "2022-03-30T16:50:45.367672Z",
          "shell.execute_reply.started": "2022-03-30T16:50:45.35665Z",
          "shell.execute_reply": "2022-03-30T16:50:45.36654Z"
        },
        "trusted": true,
        "id": "gY3jsKhwl4-2"
      },
      "execution_count": null,
      "outputs": []
    },
    {
      "cell_type": "code",
      "source": [
        "print(train.loc[train['Store'] == 622].head())"
      ],
      "metadata": {
        "execution": {
          "iopub.status.busy": "2022-03-30T16:50:45.369339Z",
          "iopub.execute_input": "2022-03-30T16:50:45.369881Z",
          "iopub.status.idle": "2022-03-30T16:50:45.382141Z",
          "shell.execute_reply.started": "2022-03-30T16:50:45.369837Z",
          "shell.execute_reply": "2022-03-30T16:50:45.381413Z"
        },
        "trusted": true,
        "id": "MfV8yBFvl4-6"
      },
      "execution_count": null,
      "outputs": []
    },
    {
      "cell_type": "code",
      "source": [
        "train[np.isnan(train['Open'])]"
      ],
      "metadata": {
        "execution": {
          "iopub.status.busy": "2022-03-30T17:48:54.061003Z",
          "iopub.execute_input": "2022-03-30T17:48:54.061832Z",
          "iopub.status.idle": "2022-03-30T17:48:54.075174Z",
          "shell.execute_reply.started": "2022-03-30T17:48:54.061792Z",
          "shell.execute_reply": "2022-03-30T17:48:54.074451Z"
        },
        "trusted": true,
        "id": "7O8vA18_l4-6"
      },
      "execution_count": null,
      "outputs": []
    },
    {
      "cell_type": "code",
      "source": [
        "test.loc[np.isnan(test['Open']), 'Open'] = 1"
      ],
      "metadata": {
        "execution": {
          "iopub.status.busy": "2022-03-30T17:48:51.737208Z",
          "iopub.execute_input": "2022-03-30T17:48:51.738147Z",
          "iopub.status.idle": "2022-03-30T17:48:51.74436Z",
          "shell.execute_reply.started": "2022-03-30T17:48:51.738087Z",
          "shell.execute_reply": "2022-03-30T17:48:51.743711Z"
        },
        "trusted": true,
        "id": "A-mGKmq9l4-7"
      },
      "execution_count": null,
      "outputs": []
    },
    {
      "cell_type": "code",
      "source": [
        "print(\"NANs for individual columns\")\n",
        "print(\"---------------------------\")\n",
        "from collections import Counter\n",
        "x = {colname : test[colname].isnull().sum() for colname in test.columns}\n",
        "Counter(x).most_common()"
      ],
      "metadata": {
        "execution": {
          "iopub.status.busy": "2022-03-30T16:50:45.404148Z",
          "iopub.execute_input": "2022-03-30T16:50:45.404847Z",
          "iopub.status.idle": "2022-03-30T16:50:45.429448Z",
          "shell.execute_reply.started": "2022-03-30T16:50:45.404797Z",
          "shell.execute_reply": "2022-03-30T16:50:45.428564Z"
        },
        "trusted": true,
        "id": "vZtAU248l4-7"
      },
      "execution_count": null,
      "outputs": []
    },
    {
      "cell_type": "code",
      "source": [
        "test.dtypes"
      ],
      "metadata": {
        "execution": {
          "iopub.status.busy": "2022-03-30T16:50:45.431136Z",
          "iopub.execute_input": "2022-03-30T16:50:45.431728Z",
          "iopub.status.idle": "2022-03-30T16:50:45.44072Z",
          "shell.execute_reply.started": "2022-03-30T16:50:45.431682Z",
          "shell.execute_reply": "2022-03-30T16:50:45.440041Z"
        },
        "trusted": true,
        "id": "f14nScUal4-7"
      },
      "execution_count": null,
      "outputs": []
    },
    {
      "cell_type": "code",
      "source": [
        ""
      ],
      "metadata": {
        "id": "Xp7Wq4cwl4-8"
      },
      "execution_count": null,
      "outputs": []
    },
    {
      "cell_type": "code",
      "source": [
        "test['StateHoliday'].unique()"
      ],
      "metadata": {
        "execution": {
          "iopub.status.busy": "2022-03-30T17:32:18.500855Z",
          "iopub.execute_input": "2022-03-30T17:32:18.501493Z",
          "iopub.status.idle": "2022-03-30T17:32:18.511148Z",
          "shell.execute_reply.started": "2022-03-30T17:32:18.501446Z",
          "shell.execute_reply": "2022-03-30T17:32:18.510585Z"
        },
        "trusted": true,
        "id": "4glv6W8ul4-8"
      },
      "execution_count": null,
      "outputs": []
    },
    {
      "cell_type": "code",
      "source": [
        "test['SchoolHoliday'].unique()"
      ],
      "metadata": {
        "execution": {
          "iopub.status.busy": "2022-03-30T17:32:28.157656Z",
          "iopub.execute_input": "2022-03-30T17:32:28.158452Z",
          "iopub.status.idle": "2022-03-30T17:32:28.166833Z",
          "shell.execute_reply.started": "2022-03-30T17:32:28.158415Z",
          "shell.execute_reply": "2022-03-30T17:32:28.166263Z"
        },
        "trusted": true,
        "id": "Gwsbk9Lol4-8"
      },
      "execution_count": null,
      "outputs": []
    },
    {
      "cell_type": "code",
      "source": [
        "factor_to_integer(test, 'StateHoliday')\n",
        "factor_to_integer(test, 'SchoolHoliday')\n",
        "test.dtypes"
      ],
      "metadata": {
        "execution": {
          "iopub.status.busy": "2022-03-30T17:49:03.827736Z",
          "iopub.execute_input": "2022-03-30T17:49:03.828213Z",
          "iopub.status.idle": "2022-03-30T17:49:03.885963Z",
          "shell.execute_reply.started": "2022-03-30T17:49:03.828178Z",
          "shell.execute_reply": "2022-03-30T17:49:03.884951Z"
        },
        "trusted": true,
        "id": "C5vicWAvl4-8"
      },
      "execution_count": null,
      "outputs": []
    },
    {
      "cell_type": "code",
      "source": [
        "print(train['StateHoliday'].unique())\n",
        "print(test['StateHoliday'].unique())"
      ],
      "metadata": {
        "execution": {
          "iopub.status.busy": "2022-03-30T17:32:43.044456Z",
          "iopub.execute_input": "2022-03-30T17:32:43.045075Z",
          "iopub.status.idle": "2022-03-30T17:32:43.064918Z",
          "shell.execute_reply.started": "2022-03-30T17:32:43.045035Z",
          "shell.execute_reply": "2022-03-30T17:32:43.063925Z"
        },
        "trusted": true,
        "id": "wB2m1AMSl4-9"
      },
      "execution_count": null,
      "outputs": []
    },
    {
      "cell_type": "code",
      "source": [
        "train.loc[train['StateHoliday'] > 1].shape"
      ],
      "metadata": {
        "trusted": true,
        "id": "_tyg0-JBl4-9"
      },
      "execution_count": null,
      "outputs": []
    },
    {
      "cell_type": "code",
      "source": [
        "##Because only StateHoliday 0 and 1 exist in test dataset, we should consider deleting the rows in train dataset that \n",
        "##the StateHoliday value is different than 0 or 1."
      ],
      "metadata": {
        "execution": {
          "iopub.status.busy": "2022-03-30T16:50:45.557646Z",
          "iopub.execute_input": "2022-03-30T16:50:45.557963Z",
          "iopub.status.idle": "2022-03-30T16:50:45.565991Z",
          "shell.execute_reply.started": "2022-03-30T16:50:45.557932Z",
          "shell.execute_reply": "2022-03-30T16:50:45.565109Z"
        },
        "trusted": true,
        "id": "q6BGe2gnl4-9"
      },
      "execution_count": null,
      "outputs": []
    },
    {
      "cell_type": "code",
      "source": [
        "train = train.loc[train['StateHoliday'] < 2]"
      ],
      "metadata": {
        "execution": {
          "iopub.status.busy": "2022-03-30T17:49:12.658385Z",
          "iopub.execute_input": "2022-03-30T17:49:12.658685Z",
          "iopub.status.idle": "2022-03-30T17:49:12.714343Z",
          "shell.execute_reply.started": "2022-03-30T17:49:12.65865Z",
          "shell.execute_reply": "2022-03-30T17:49:12.713505Z"
        },
        "trusted": true,
        "id": "CGVvdQMyl4-9"
      },
      "execution_count": null,
      "outputs": []
    },
    {
      "cell_type": "code",
      "source": [
        "print(train['StateHoliday'].unique())\n",
        "print(test['StateHoliday'].unique())"
      ],
      "metadata": {
        "execution": {
          "iopub.status.busy": "2022-03-30T17:49:14.295299Z",
          "iopub.execute_input": "2022-03-30T17:49:14.295581Z",
          "iopub.status.idle": "2022-03-30T17:49:14.307832Z",
          "shell.execute_reply.started": "2022-03-30T17:49:14.29555Z",
          "shell.execute_reply": "2022-03-30T17:49:14.306694Z"
        },
        "trusted": true,
        "id": "MlEO-w9al4--"
      },
      "execution_count": null,
      "outputs": []
    },
    {
      "cell_type": "code",
      "source": [
        "train.loc[train['StateHoliday'] > 1].shape"
      ],
      "metadata": {
        "execution": {
          "iopub.status.busy": "2022-03-30T16:50:45.632283Z",
          "iopub.execute_input": "2022-03-30T16:50:45.632606Z",
          "iopub.status.idle": "2022-03-30T16:50:45.641147Z",
          "shell.execute_reply.started": "2022-03-30T16:50:45.632575Z",
          "shell.execute_reply": "2022-03-30T16:50:45.640342Z"
        },
        "trusted": true,
        "id": "6TKUuatnl4--"
      },
      "execution_count": null,
      "outputs": []
    },
    {
      "cell_type": "code",
      "source": [
        "train.describe()"
      ],
      "metadata": {
        "execution": {
          "iopub.status.busy": "2022-03-30T16:50:45.642704Z",
          "iopub.execute_input": "2022-03-30T16:50:45.643214Z",
          "iopub.status.idle": "2022-03-30T16:50:45.928974Z",
          "shell.execute_reply.started": "2022-03-30T16:50:45.64318Z",
          "shell.execute_reply": "2022-03-30T16:50:45.928197Z"
        },
        "trusted": true,
        "id": "ZlBX_w50l4--"
      },
      "execution_count": null,
      "outputs": []
    },
    {
      "cell_type": "code",
      "source": [
        "test.dtypes"
      ],
      "metadata": {
        "execution": {
          "iopub.status.busy": "2022-03-30T17:17:42.515797Z",
          "iopub.execute_input": "2022-03-30T17:17:42.516087Z",
          "iopub.status.idle": "2022-03-30T17:17:42.523038Z",
          "shell.execute_reply.started": "2022-03-30T17:17:42.516053Z",
          "shell.execute_reply": "2022-03-30T17:17:42.522472Z"
        },
        "trusted": true,
        "id": "LFcTidDkl4--"
      },
      "execution_count": null,
      "outputs": []
    },
    {
      "cell_type": "code",
      "source": [
        "test.isnull().sum()"
      ],
      "metadata": {
        "execution": {
          "iopub.status.busy": "2022-03-30T17:18:31.613697Z",
          "iopub.execute_input": "2022-03-30T17:18:31.614425Z",
          "iopub.status.idle": "2022-03-30T17:18:31.624475Z",
          "shell.execute_reply.started": "2022-03-30T17:18:31.614376Z",
          "shell.execute_reply": "2022-03-30T17:18:31.623328Z"
        },
        "trusted": true,
        "id": "73nBdWCbl4--"
      },
      "execution_count": null,
      "outputs": []
    },
    {
      "cell_type": "markdown",
      "source": [
        "**3) Store Dataset**"
      ],
      "metadata": {
        "id": "lXNmnKVGl4-_"
      }
    },
    {
      "cell_type": "code",
      "source": [
        "store.dtypes"
      ],
      "metadata": {
        "execution": {
          "iopub.status.busy": "2022-03-30T17:40:26.509621Z",
          "iopub.execute_input": "2022-03-30T17:40:26.510444Z",
          "iopub.status.idle": "2022-03-30T17:40:26.517842Z",
          "shell.execute_reply.started": "2022-03-30T17:40:26.510403Z",
          "shell.execute_reply": "2022-03-30T17:40:26.516892Z"
        },
        "trusted": true,
        "id": "wJtJwxGXl4-_"
      },
      "execution_count": null,
      "outputs": []
    },
    {
      "cell_type": "code",
      "source": [
        "store.isnull().sum()"
      ],
      "metadata": {
        "execution": {
          "iopub.status.busy": "2022-03-30T17:40:46.669952Z",
          "iopub.execute_input": "2022-03-30T17:40:46.67022Z",
          "iopub.status.idle": "2022-03-30T17:40:46.679167Z",
          "shell.execute_reply.started": "2022-03-30T17:40:46.670189Z",
          "shell.execute_reply": "2022-03-30T17:40:46.678202Z"
        },
        "trusted": true,
        "id": "4T7iHAfel4-_"
      },
      "execution_count": null,
      "outputs": []
    },
    {
      "cell_type": "code",
      "source": [
        "store.shape"
      ],
      "metadata": {
        "execution": {
          "iopub.status.busy": "2022-03-30T16:50:45.930254Z",
          "iopub.execute_input": "2022-03-30T16:50:45.931197Z",
          "iopub.status.idle": "2022-03-30T16:50:45.937708Z",
          "shell.execute_reply.started": "2022-03-30T16:50:45.931141Z",
          "shell.execute_reply": "2022-03-30T16:50:45.937042Z"
        },
        "trusted": true,
        "id": "TwZAjy9Al4-_"
      },
      "execution_count": null,
      "outputs": []
    },
    {
      "cell_type": "code",
      "source": [
        "print(store.head())"
      ],
      "metadata": {
        "execution": {
          "iopub.status.busy": "2022-03-30T16:50:45.938644Z",
          "iopub.execute_input": "2022-03-30T16:50:45.93973Z",
          "iopub.status.idle": "2022-03-30T16:50:45.955342Z",
          "shell.execute_reply.started": "2022-03-30T16:50:45.939683Z",
          "shell.execute_reply": "2022-03-30T16:50:45.954414Z"
        },
        "trusted": true,
        "id": "OoVHL9y-l4-_"
      },
      "execution_count": null,
      "outputs": []
    },
    {
      "cell_type": "code",
      "source": [
        "print(store.tail())"
      ],
      "metadata": {
        "trusted": true,
        "id": "fWf3r4kZl4-_"
      },
      "execution_count": null,
      "outputs": []
    },
    {
      "cell_type": "code",
      "source": [
        "print(\"NANs for individual columns\")\n",
        "print(\"---------------------------\")\n",
        "from collections import Counter\n",
        "x = {colname : store[colname].isnull().sum() for colname in store.columns}\n",
        "Counter(x).most_common()"
      ],
      "metadata": {
        "trusted": true,
        "id": "0kRhAmOVl4_A"
      },
      "execution_count": null,
      "outputs": []
    },
    {
      "cell_type": "code",
      "source": [
        "store['PromoInterval'].unique()"
      ],
      "metadata": {
        "trusted": true,
        "id": "Q3wQk2D1l4_A"
      },
      "execution_count": null,
      "outputs": []
    },
    {
      "cell_type": "code",
      "source": [
        "store['Promo2SinceWeek'].unique()"
      ],
      "metadata": {
        "execution": {
          "iopub.status.busy": "2022-03-30T16:50:46.0089Z",
          "iopub.execute_input": "2022-03-30T16:50:46.00915Z",
          "iopub.status.idle": "2022-03-30T16:50:46.021941Z",
          "shell.execute_reply.started": "2022-03-30T16:50:46.009112Z",
          "shell.execute_reply": "2022-03-30T16:50:46.021035Z"
        },
        "trusted": true,
        "id": "KDjyIj5rl4_A"
      },
      "execution_count": null,
      "outputs": []
    },
    {
      "cell_type": "code",
      "source": [
        "store['Promo2SinceYear'].unique()"
      ],
      "metadata": {
        "execution": {
          "iopub.status.busy": "2022-03-30T16:50:46.025216Z",
          "iopub.execute_input": "2022-03-30T16:50:46.025505Z",
          "iopub.status.idle": "2022-03-30T16:50:46.033598Z",
          "shell.execute_reply.started": "2022-03-30T16:50:46.025473Z",
          "shell.execute_reply": "2022-03-30T16:50:46.032691Z"
        },
        "trusted": true,
        "id": "L1CtC328l4_A"
      },
      "execution_count": null,
      "outputs": []
    },
    {
      "cell_type": "markdown",
      "source": [
        "*on doit affecter 0 à (Promo2SinceWeek', 'Promo2SinceYear', 'PromoInterval) si il y a pas de promo*"
      ],
      "metadata": {
        "id": "30g5gAiJl4_A"
      }
    },
    {
      "cell_type": "code",
      "source": [
        "store.loc[store['Promo2'] == 0, ['Promo2SinceWeek', 'Promo2SinceYear', 'PromoInterval']] = 0"
      ],
      "metadata": {
        "execution": {
          "iopub.status.busy": "2022-03-30T17:49:36.571715Z",
          "iopub.execute_input": "2022-03-30T17:49:36.572022Z",
          "iopub.status.idle": "2022-03-30T17:49:36.579962Z",
          "shell.execute_reply.started": "2022-03-30T17:49:36.571989Z",
          "shell.execute_reply": "2022-03-30T17:49:36.578843Z"
        },
        "trusted": true,
        "id": "YRXZTo2Gl4_A"
      },
      "execution_count": null,
      "outputs": []
    },
    {
      "cell_type": "code",
      "source": [
        "store.loc[store['Promo2'] == 0, ['Promo2SinceWeek', 'Promo2SinceYear', 'PromoInterval']].tail()"
      ],
      "metadata": {
        "execution": {
          "iopub.status.busy": "2022-03-30T17:49:40.582111Z",
          "iopub.execute_input": "2022-03-30T17:49:40.582418Z",
          "iopub.status.idle": "2022-03-30T17:49:40.59612Z",
          "shell.execute_reply.started": "2022-03-30T17:49:40.582388Z",
          "shell.execute_reply": "2022-03-30T17:49:40.595328Z"
        },
        "trusted": true,
        "id": "Qjt0qkBWl4_A"
      },
      "execution_count": null,
      "outputs": []
    },
    {
      "cell_type": "markdown",
      "source": [
        "*Comme on veut les durée et non les valeur(Year,Week) on fait le max moins la valeur actuel*"
      ],
      "metadata": {
        "id": "0Q4Dl84Ql4_B"
      }
    },
    {
      "cell_type": "code",
      "source": [
        "store.loc[store['Promo2'] != 0, 'Promo2SinceWeek'] = store['Promo2SinceWeek'].max() - store.loc[store['Promo2'] != 0, 'Promo2SinceWeek']"
      ],
      "metadata": {
        "execution": {
          "iopub.status.busy": "2022-03-30T17:49:48.222883Z",
          "iopub.execute_input": "2022-03-30T17:49:48.223164Z",
          "iopub.status.idle": "2022-03-30T17:49:48.23096Z",
          "shell.execute_reply.started": "2022-03-30T17:49:48.223132Z",
          "shell.execute_reply": "2022-03-30T17:49:48.230068Z"
        },
        "trusted": true,
        "id": "Hhxf_v7Kl4_B"
      },
      "execution_count": null,
      "outputs": []
    },
    {
      "cell_type": "code",
      "source": [
        "store.loc[store['Promo2'] != 0, 'Promo2SinceYear'] = store['Promo2SinceYear'].max() - store.loc[store['Promo2'] != 0, 'Promo2SinceYear']\n"
      ],
      "metadata": {
        "execution": {
          "iopub.status.busy": "2022-03-30T17:49:49.895841Z",
          "iopub.execute_input": "2022-03-30T17:49:49.89612Z",
          "iopub.status.idle": "2022-03-30T17:49:49.903091Z",
          "shell.execute_reply.started": "2022-03-30T17:49:49.896086Z",
          "shell.execute_reply": "2022-03-30T17:49:49.902297Z"
        },
        "trusted": true,
        "id": "D0CCvvm8l4_B"
      },
      "execution_count": null,
      "outputs": []
    },
    {
      "cell_type": "code",
      "source": [
        "store.loc[store['Promo2'] == 1, ['Promo2SinceWeek', 'Promo2SinceYear', 'PromoInterval']].tail()"
      ],
      "metadata": {
        "execution": {
          "iopub.status.busy": "2022-03-30T17:49:53.304822Z",
          "iopub.execute_input": "2022-03-30T17:49:53.305104Z",
          "iopub.status.idle": "2022-03-30T17:49:53.319705Z",
          "shell.execute_reply.started": "2022-03-30T17:49:53.305072Z",
          "shell.execute_reply": "2022-03-30T17:49:53.318781Z"
        },
        "trusted": true,
        "id": "sBWlm2Ibl4_B"
      },
      "execution_count": null,
      "outputs": []
    },
    {
      "cell_type": "code",
      "source": [
        "factor_to_integer(store, 'PromoInterval', start_value=0)"
      ],
      "metadata": {
        "execution": {
          "iopub.status.busy": "2022-03-30T17:49:56.635237Z",
          "iopub.execute_input": "2022-03-30T17:49:56.63555Z",
          "iopub.status.idle": "2022-03-30T17:49:56.646427Z",
          "shell.execute_reply.started": "2022-03-30T17:49:56.635522Z",
          "shell.execute_reply": "2022-03-30T17:49:56.645028Z"
        },
        "trusted": true,
        "id": "P5HvqUjml4_B"
      },
      "execution_count": null,
      "outputs": []
    },
    {
      "cell_type": "code",
      "source": [
        "store.dtypes"
      ],
      "metadata": {
        "execution": {
          "iopub.status.busy": "2022-03-30T16:50:46.133466Z",
          "iopub.execute_input": "2022-03-30T16:50:46.134209Z",
          "iopub.status.idle": "2022-03-30T16:50:46.144015Z",
          "shell.execute_reply.started": "2022-03-30T16:50:46.134162Z",
          "shell.execute_reply": "2022-03-30T16:50:46.143222Z"
        },
        "trusted": true,
        "id": "k5LzWvC1l4_B"
      },
      "execution_count": null,
      "outputs": []
    },
    {
      "cell_type": "code",
      "source": [
        "store['StoreType'].unique()"
      ],
      "metadata": {
        "execution": {
          "iopub.status.busy": "2022-03-30T16:50:46.14601Z",
          "iopub.execute_input": "2022-03-30T16:50:46.146409Z",
          "iopub.status.idle": "2022-03-30T16:50:46.154896Z",
          "shell.execute_reply.started": "2022-03-30T16:50:46.146348Z",
          "shell.execute_reply": "2022-03-30T16:50:46.154312Z"
        },
        "trusted": true,
        "id": "RynVRjMcl4_C"
      },
      "execution_count": null,
      "outputs": []
    },
    {
      "cell_type": "code",
      "source": [
        "store['Assortment'].unique()"
      ],
      "metadata": {
        "execution": {
          "iopub.status.busy": "2022-03-30T16:50:46.156208Z",
          "iopub.execute_input": "2022-03-30T16:50:46.156994Z",
          "iopub.status.idle": "2022-03-30T16:50:46.1644Z",
          "shell.execute_reply.started": "2022-03-30T16:50:46.156958Z",
          "shell.execute_reply": "2022-03-30T16:50:46.163821Z"
        },
        "trusted": true,
        "id": "IVQGV6gAl4_C"
      },
      "execution_count": null,
      "outputs": []
    },
    {
      "cell_type": "code",
      "source": [
        "factor_to_integer(store, 'StoreType')\n",
        "factor_to_integer(store, 'Assortment')\n",
        "store.dtypes"
      ],
      "metadata": {
        "execution": {
          "iopub.status.busy": "2022-03-30T17:50:04.268965Z",
          "iopub.execute_input": "2022-03-30T17:50:04.269604Z",
          "iopub.status.idle": "2022-03-30T17:50:04.435503Z",
          "shell.execute_reply.started": "2022-03-30T17:50:04.269565Z",
          "shell.execute_reply": "2022-03-30T17:50:04.434675Z"
        },
        "trusted": true,
        "id": "_2Iv-Glsl4_C"
      },
      "execution_count": null,
      "outputs": []
    },
    {
      "cell_type": "code",
      "source": [
        "print(store.head())"
      ],
      "metadata": {
        "execution": {
          "iopub.status.busy": "2022-03-30T16:50:46.187796Z",
          "iopub.execute_input": "2022-03-30T16:50:46.188025Z",
          "iopub.status.idle": "2022-03-30T16:50:46.198121Z",
          "shell.execute_reply.started": "2022-03-30T16:50:46.187992Z",
          "shell.execute_reply": "2022-03-30T16:50:46.197173Z"
        },
        "trusted": true,
        "id": "Lx8LlYYvl4_C"
      },
      "execution_count": null,
      "outputs": []
    },
    {
      "cell_type": "code",
      "source": [
        "store.isnull().sum()"
      ],
      "metadata": {
        "execution": {
          "iopub.status.busy": "2022-03-30T16:50:46.199647Z",
          "iopub.execute_input": "2022-03-30T16:50:46.200614Z",
          "iopub.status.idle": "2022-03-30T16:50:46.212788Z",
          "shell.execute_reply.started": "2022-03-30T16:50:46.200567Z",
          "shell.execute_reply": "2022-03-30T16:50:46.212221Z"
        },
        "trusted": true,
        "id": "phISofKEl4_C"
      },
      "execution_count": null,
      "outputs": []
    },
    {
      "cell_type": "markdown",
      "source": [
        "*on remplace pas les naan par des 0 mais par la moyenne car il se peut qu'ils y ait des déjà 0 dans la Col et il se peut qu'il y ait des lignes avec des 0 et ils se confondront*"
      ],
      "metadata": {
        "id": "-4tcAaRbl4_C"
      }
    },
    {
      "cell_type": "code",
      "source": [
        "from sklearn.impute import SimpleImputer\n",
        "imputer = SimpleImputer(missing_values=np.nan, strategy='mean')\n",
        "imputer.fit(store)\n",
        "store_imputed = imputer.transform(store)"
      ],
      "metadata": {
        "execution": {
          "iopub.status.busy": "2022-03-30T17:50:10.137428Z",
          "iopub.execute_input": "2022-03-30T17:50:10.138452Z",
          "iopub.status.idle": "2022-03-30T17:50:10.154362Z",
          "shell.execute_reply.started": "2022-03-30T17:50:10.138411Z",
          "shell.execute_reply": "2022-03-30T17:50:10.153431Z"
        },
        "trusted": true,
        "id": "HAL3o23Ol4_C"
      },
      "execution_count": null,
      "outputs": []
    },
    {
      "cell_type": "code",
      "source": [
        "store2 = pd.DataFrame(store_imputed, columns=store.columns.values)"
      ],
      "metadata": {
        "execution": {
          "iopub.status.busy": "2022-03-30T17:50:16.439065Z",
          "iopub.execute_input": "2022-03-30T17:50:16.439394Z",
          "iopub.status.idle": "2022-03-30T17:50:16.444868Z",
          "shell.execute_reply.started": "2022-03-30T17:50:16.439352Z",
          "shell.execute_reply": "2022-03-30T17:50:16.444013Z"
        },
        "trusted": true,
        "id": "wK1ffsqEl4_D"
      },
      "execution_count": null,
      "outputs": []
    },
    {
      "cell_type": "code",
      "source": [
        "store2.tail()"
      ],
      "metadata": {
        "execution": {
          "iopub.status.busy": "2022-03-30T16:50:46.544189Z",
          "iopub.execute_input": "2022-03-30T16:50:46.544472Z",
          "iopub.status.idle": "2022-03-30T16:50:46.571702Z",
          "shell.execute_reply.started": "2022-03-30T16:50:46.54444Z",
          "shell.execute_reply": "2022-03-30T16:50:46.570775Z"
        },
        "trusted": true,
        "id": "UdYmGE9-l4_D"
      },
      "execution_count": null,
      "outputs": []
    },
    {
      "cell_type": "code",
      "source": [
        "store2.head()"
      ],
      "metadata": {
        "execution": {
          "iopub.status.busy": "2022-03-30T16:50:46.573216Z",
          "iopub.execute_input": "2022-03-30T16:50:46.573669Z",
          "iopub.status.idle": "2022-03-30T16:50:46.598979Z",
          "shell.execute_reply.started": "2022-03-30T16:50:46.573614Z",
          "shell.execute_reply": "2022-03-30T16:50:46.598352Z"
        },
        "trusted": true,
        "id": "wROAHraIl4_D"
      },
      "execution_count": null,
      "outputs": []
    },
    {
      "cell_type": "code",
      "source": [
        "store2.isnull().sum()"
      ],
      "metadata": {
        "execution": {
          "iopub.status.busy": "2022-03-30T16:50:46.600123Z",
          "iopub.execute_input": "2022-03-30T16:50:46.601447Z",
          "iopub.status.idle": "2022-03-30T16:50:46.610028Z",
          "shell.execute_reply.started": "2022-03-30T16:50:46.601398Z",
          "shell.execute_reply": "2022-03-30T16:50:46.60924Z"
        },
        "trusted": true,
        "id": "_0A3BxGEl4_D"
      },
      "execution_count": null,
      "outputs": []
    },
    {
      "cell_type": "code",
      "source": [
        "store2.shape"
      ],
      "metadata": {
        "execution": {
          "iopub.status.busy": "2022-03-30T16:50:46.611244Z",
          "iopub.execute_input": "2022-03-30T16:50:46.611875Z",
          "iopub.status.idle": "2022-03-30T16:50:46.622768Z",
          "shell.execute_reply.started": "2022-03-30T16:50:46.611835Z",
          "shell.execute_reply": "2022-03-30T16:50:46.622094Z"
        },
        "trusted": true,
        "id": "h35neUUKl4_D"
      },
      "execution_count": null,
      "outputs": []
    },
    {
      "cell_type": "code",
      "source": [
        "store.shape"
      ],
      "metadata": {
        "execution": {
          "iopub.status.busy": "2022-03-30T16:50:46.624132Z",
          "iopub.execute_input": "2022-03-30T16:50:46.624772Z",
          "iopub.status.idle": "2022-03-30T16:50:46.633526Z",
          "shell.execute_reply.started": "2022-03-30T16:50:46.624725Z",
          "shell.execute_reply": "2022-03-30T16:50:46.632747Z"
        },
        "trusted": true,
        "id": "-l0_yoSZl4_D"
      },
      "execution_count": null,
      "outputs": []
    },
    {
      "cell_type": "markdown",
      "source": [
        "*même chose que pour les promo*"
      ],
      "metadata": {
        "id": "a1Mt8rp5l4_D"
      }
    },
    {
      "cell_type": "code",
      "source": [
        "store2['CompetitionOpenSinceMonth'] = store2['CompetitionOpenSinceMonth'].max() - store2['CompetitionOpenSinceMonth']"
      ],
      "metadata": {
        "execution": {
          "iopub.status.busy": "2022-03-30T17:50:24.826085Z",
          "iopub.execute_input": "2022-03-30T17:50:24.826387Z",
          "iopub.status.idle": "2022-03-30T17:50:24.832105Z",
          "shell.execute_reply.started": "2022-03-30T17:50:24.826357Z",
          "shell.execute_reply": "2022-03-30T17:50:24.831333Z"
        },
        "trusted": true,
        "id": "Rw1TIjrfl4_E"
      },
      "execution_count": null,
      "outputs": []
    },
    {
      "cell_type": "code",
      "source": [
        "store2['CompetitionOpenSinceYear'] = store2['CompetitionOpenSinceYear'].max() - store2['CompetitionOpenSinceYear']"
      ],
      "metadata": {
        "execution": {
          "iopub.status.busy": "2022-03-30T17:50:27.355701Z",
          "iopub.execute_input": "2022-03-30T17:50:27.356156Z",
          "iopub.status.idle": "2022-03-30T17:50:27.361514Z",
          "shell.execute_reply.started": "2022-03-30T17:50:27.356123Z",
          "shell.execute_reply": "2022-03-30T17:50:27.360444Z"
        },
        "trusted": true,
        "id": "EGMe2kIil4_E"
      },
      "execution_count": null,
      "outputs": []
    },
    {
      "cell_type": "code",
      "source": [
        "train.head()"
      ],
      "metadata": {
        "execution": {
          "iopub.status.busy": "2022-03-30T16:50:46.658169Z",
          "iopub.execute_input": "2022-03-30T16:50:46.659021Z",
          "iopub.status.idle": "2022-03-30T16:50:46.676965Z",
          "shell.execute_reply.started": "2022-03-30T16:50:46.658977Z",
          "shell.execute_reply": "2022-03-30T16:50:46.67602Z"
        },
        "trusted": true,
        "id": "FIKmUw7pl4_E"
      },
      "execution_count": null,
      "outputs": []
    },
    {
      "cell_type": "code",
      "source": [
        "store2.head()"
      ],
      "metadata": {
        "execution": {
          "iopub.status.busy": "2022-03-30T16:50:46.678239Z",
          "iopub.execute_input": "2022-03-30T16:50:46.679014Z",
          "iopub.status.idle": "2022-03-30T16:50:46.699753Z",
          "shell.execute_reply.started": "2022-03-30T16:50:46.678977Z",
          "shell.execute_reply": "2022-03-30T16:50:46.6988Z"
        },
        "trusted": true,
        "id": "feYu85KNl4_E"
      },
      "execution_count": null,
      "outputs": []
    },
    {
      "cell_type": "code",
      "source": [
        "store2.dtypes"
      ],
      "metadata": {
        "execution": {
          "iopub.status.busy": "2022-03-30T17:51:07.423583Z",
          "iopub.execute_input": "2022-03-30T17:51:07.424498Z",
          "iopub.status.idle": "2022-03-30T17:51:07.4318Z",
          "shell.execute_reply.started": "2022-03-30T17:51:07.424436Z",
          "shell.execute_reply": "2022-03-30T17:51:07.431228Z"
        },
        "trusted": true,
        "id": "RiR4DPuxl4_E"
      },
      "execution_count": null,
      "outputs": []
    },
    {
      "cell_type": "code",
      "source": [
        "store2.isnull().sum()"
      ],
      "metadata": {
        "execution": {
          "iopub.status.busy": "2022-03-30T17:51:09.87881Z",
          "iopub.execute_input": "2022-03-30T17:51:09.879659Z",
          "iopub.status.idle": "2022-03-30T17:51:09.887473Z",
          "shell.execute_reply.started": "2022-03-30T17:51:09.879623Z",
          "shell.execute_reply": "2022-03-30T17:51:09.886787Z"
        },
        "trusted": true,
        "id": "0YNhS-5al4_E"
      },
      "execution_count": null,
      "outputs": []
    },
    {
      "cell_type": "code",
      "source": [
        "len(store2['Store']) -sum(store2['Store'].isin(train['Store']))"
      ],
      "metadata": {
        "execution": {
          "iopub.status.busy": "2022-03-30T17:50:48.252239Z",
          "iopub.execute_input": "2022-03-30T17:50:48.252993Z",
          "iopub.status.idle": "2022-03-30T17:50:48.27532Z",
          "shell.execute_reply.started": "2022-03-30T17:50:48.252958Z",
          "shell.execute_reply": "2022-03-30T17:50:48.274444Z"
        },
        "trusted": true,
        "id": "nf8_-dLvl4_E"
      },
      "execution_count": null,
      "outputs": []
    },
    {
      "cell_type": "markdown",
      "source": [
        "*Checking if there are additional (unnecessary) stores in \"train\" data.\n",
        "No difference at all!*\n"
      ],
      "metadata": {
        "id": "jFAQ8dydl4_E"
      }
    },
    {
      "cell_type": "code",
      "source": [
        "StoreStore = pd.Series(store2['Store']); StoreTrain = pd.Series(train['Store'])\n",
        "\n",
        "sum(StoreTrain.isin(StoreStore) == False)"
      ],
      "metadata": {
        "execution": {
          "iopub.status.busy": "2022-03-30T16:50:46.730618Z",
          "iopub.execute_input": "2022-03-30T16:50:46.731176Z",
          "iopub.status.idle": "2022-03-30T16:50:46.897439Z",
          "shell.execute_reply.started": "2022-03-30T16:50:46.731131Z",
          "shell.execute_reply": "2022-03-30T16:50:46.896636Z"
        },
        "trusted": true,
        "id": "GqHY3NlWl4_F"
      },
      "execution_count": null,
      "outputs": []
    },
    {
      "cell_type": "markdown",
      "source": [
        "*Merge train and store datasets before modeling the data*\n",
        "*le merge se fait en fonction du store*"
      ],
      "metadata": {
        "id": "Wq1Rry_Yl4_F"
      }
    },
    {
      "cell_type": "code",
      "source": [
        "train_store = pd.merge(train, store2, how = 'left', on='Store')"
      ],
      "metadata": {
        "execution": {
          "iopub.status.busy": "2022-03-30T18:13:07.994624Z",
          "iopub.execute_input": "2022-03-30T18:13:07.994964Z",
          "iopub.status.idle": "2022-03-30T18:13:08.722086Z",
          "shell.execute_reply.started": "2022-03-30T18:13:07.994934Z",
          "shell.execute_reply": "2022-03-30T18:13:08.721133Z"
        },
        "trusted": true,
        "id": "wzgCky1Vl4_F"
      },
      "execution_count": null,
      "outputs": []
    },
    {
      "cell_type": "code",
      "source": [
        "print(train_store.head())"
      ],
      "metadata": {
        "execution": {
          "iopub.status.busy": "2022-03-30T18:14:09.178313Z",
          "iopub.execute_input": "2022-03-30T18:14:09.17863Z",
          "iopub.status.idle": "2022-03-30T18:14:09.193754Z",
          "shell.execute_reply.started": "2022-03-30T18:14:09.178591Z",
          "shell.execute_reply": "2022-03-30T18:14:09.192659Z"
        },
        "trusted": true,
        "id": "wMv8yU6El4_F"
      },
      "execution_count": null,
      "outputs": []
    },
    {
      "cell_type": "code",
      "source": [
        "train_store.isnull().sum()"
      ],
      "metadata": {
        "execution": {
          "iopub.status.busy": "2022-03-30T16:50:47.28485Z",
          "iopub.execute_input": "2022-03-30T16:50:47.285395Z",
          "iopub.status.idle": "2022-03-30T16:50:47.326204Z",
          "shell.execute_reply.started": "2022-03-30T16:50:47.285362Z",
          "shell.execute_reply": "2022-03-30T16:50:47.325252Z"
        },
        "trusted": true,
        "id": "iMbtE04Gl4_F"
      },
      "execution_count": null,
      "outputs": []
    },
    {
      "cell_type": "markdown",
      "source": [
        "*Merge test and store datasets and check the result*"
      ],
      "metadata": {
        "id": "LMCwl05Vl4_F"
      }
    },
    {
      "cell_type": "code",
      "source": [
        "test_store = test.reset_index().merge(store2, how = 'left', on='Store').set_index('Id')"
      ],
      "metadata": {
        "execution": {
          "iopub.status.busy": "2022-03-30T18:13:15.293998Z",
          "iopub.execute_input": "2022-03-30T18:13:15.294335Z",
          "iopub.status.idle": "2022-03-30T18:13:15.335261Z",
          "shell.execute_reply.started": "2022-03-30T18:13:15.294301Z",
          "shell.execute_reply": "2022-03-30T18:13:15.334398Z"
        },
        "trusted": true,
        "id": "lLDGVQS9l4_F"
      },
      "execution_count": null,
      "outputs": []
    },
    {
      "cell_type": "code",
      "source": [
        "print(test_store.head())"
      ],
      "metadata": {
        "execution": {
          "iopub.status.busy": "2022-03-30T18:13:36.61761Z",
          "iopub.execute_input": "2022-03-30T18:13:36.618051Z",
          "iopub.status.idle": "2022-03-30T18:13:36.632438Z",
          "shell.execute_reply.started": "2022-03-30T18:13:36.618019Z",
          "shell.execute_reply": "2022-03-30T18:13:36.631586Z"
        },
        "trusted": true,
        "id": "sGQAjaCGl4_G"
      },
      "execution_count": null,
      "outputs": []
    },
    {
      "cell_type": "code",
      "source": [
        "print(test_store.tail())"
      ],
      "metadata": {
        "execution": {
          "iopub.status.busy": "2022-03-30T16:50:47.403908Z",
          "iopub.execute_input": "2022-03-30T16:50:47.404161Z",
          "iopub.status.idle": "2022-03-30T16:50:47.421258Z",
          "shell.execute_reply.started": "2022-03-30T16:50:47.40413Z",
          "shell.execute_reply": "2022-03-30T16:50:47.42062Z"
        },
        "trusted": true,
        "id": "Wg9HXGjFl4_G"
      },
      "execution_count": null,
      "outputs": []
    },
    {
      "cell_type": "code",
      "source": [
        "#test_store dimension\n",
        "test_store.shape"
      ],
      "metadata": {
        "execution": {
          "iopub.status.busy": "2022-03-30T16:50:47.422305Z",
          "iopub.execute_input": "2022-03-30T16:50:47.42279Z",
          "iopub.status.idle": "2022-03-30T16:50:47.433593Z",
          "shell.execute_reply.started": "2022-03-30T16:50:47.422753Z",
          "shell.execute_reply": "2022-03-30T16:50:47.432815Z"
        },
        "trusted": true,
        "id": "cSMkh1x-l4_G"
      },
      "execution_count": null,
      "outputs": []
    },
    {
      "cell_type": "code",
      "source": [
        "test_store.isnull().sum()"
      ],
      "metadata": {
        "execution": {
          "iopub.status.busy": "2022-03-30T16:50:47.434681Z",
          "iopub.execute_input": "2022-03-30T16:50:47.434991Z",
          "iopub.status.idle": "2022-03-30T16:50:47.450784Z",
          "shell.execute_reply.started": "2022-03-30T16:50:47.434959Z",
          "shell.execute_reply": "2022-03-30T16:50:47.449882Z"
        },
        "trusted": true,
        "id": "rzPbwbAvl4_G"
      },
      "execution_count": null,
      "outputs": []
    },
    {
      "cell_type": "markdown",
      "source": [
        "# *Visual Exploration*"
      ],
      "metadata": {
        "id": "RC9fSANll4_G"
      }
    },
    {
      "cell_type": "markdown",
      "source": [
        "**Sales by Year**"
      ],
      "metadata": {
        "id": "tNY9rU-zl4_G"
      }
    },
    {
      "cell_type": "code",
      "source": [
        "train_store.boxplot(column='Sales', by='Year')\n",
        "plt.show()"
      ],
      "metadata": {
        "execution": {
          "iopub.status.busy": "2022-03-30T16:50:47.45251Z",
          "iopub.execute_input": "2022-03-30T16:50:47.452922Z",
          "iopub.status.idle": "2022-03-30T16:50:49.422955Z",
          "shell.execute_reply.started": "2022-03-30T16:50:47.452877Z",
          "shell.execute_reply": "2022-03-30T16:50:49.422292Z"
        },
        "trusted": true,
        "id": "GHnREz9Kl4_G"
      },
      "execution_count": null,
      "outputs": []
    },
    {
      "cell_type": "markdown",
      "source": [
        "**Sales by Month**"
      ],
      "metadata": {
        "id": "SPyP63_rl4_G"
      }
    },
    {
      "cell_type": "code",
      "source": [
        "train_store.boxplot(column='Sales', by='Month')\n",
        "plt.show()"
      ],
      "metadata": {
        "execution": {
          "iopub.status.busy": "2022-03-30T16:50:49.424326Z",
          "iopub.execute_input": "2022-03-30T16:50:49.425197Z",
          "iopub.status.idle": "2022-03-30T16:50:51.411164Z",
          "shell.execute_reply.started": "2022-03-30T16:50:49.425149Z",
          "shell.execute_reply": "2022-03-30T16:50:51.41034Z"
        },
        "trusted": true,
        "id": "DIga2yCil4_H"
      },
      "execution_count": null,
      "outputs": []
    },
    {
      "cell_type": "code",
      "source": [
        "fig, (axis1,axis2) = plt.subplots(1,2,figsize=(15,4))\n",
        "axis1.title.set_text('Year vs.Sales')\n",
        "axis2.title.set_text('Month vs.Sales')\n",
        "sns.barplot(x='Year', y='Sales', data=train_store, ax=axis1)\n",
        "sns.barplot(x='Month', y='Sales', data=train_store, ax=axis2)"
      ],
      "metadata": {
        "execution": {
          "iopub.status.busy": "2022-03-30T16:50:51.41263Z",
          "iopub.execute_input": "2022-03-30T16:50:51.413109Z",
          "iopub.status.idle": "2022-03-30T16:51:08.732124Z",
          "shell.execute_reply.started": "2022-03-30T16:50:51.413055Z",
          "shell.execute_reply": "2022-03-30T16:51:08.731239Z"
        },
        "trusted": true,
        "id": "wsSkoCiSl4_H"
      },
      "execution_count": null,
      "outputs": []
    },
    {
      "cell_type": "markdown",
      "source": [
        "**Sales by StateHoliday and SchoolHoliday**"
      ],
      "metadata": {
        "id": "ZPN4X5Jsl4_H"
      }
    },
    {
      "cell_type": "code",
      "source": [
        "fig, (axis1,axis2) = plt.subplots(1,2,figsize=(15,4))\n",
        "axis1.title.set_text('StateHoliday vs.Sales')\n",
        "axis2.title.set_text('SchoolHoliday vs.Sales')\n",
        "sns.barplot(x='StateHoliday', y='Sales', data=train_store, ax=axis1)\n",
        "sns.barplot(x='SchoolHoliday', y='Sales', data=train_store, ax=axis2)"
      ],
      "metadata": {
        "execution": {
          "iopub.status.busy": "2022-03-30T16:51:08.733761Z",
          "iopub.execute_input": "2022-03-30T16:51:08.734247Z",
          "iopub.status.idle": "2022-03-30T16:51:34.228232Z",
          "shell.execute_reply.started": "2022-03-30T16:51:08.734202Z",
          "shell.execute_reply": "2022-03-30T16:51:34.227195Z"
        },
        "trusted": true,
        "id": "TrwupcZKl4_H"
      },
      "execution_count": null,
      "outputs": []
    },
    {
      "cell_type": "code",
      "source": [
        "fig, (axis1,axis2) = plt.subplots(1,2,figsize=(15,4))\n",
        "axis1.title.set_text('StoreType vs.Sales')\n",
        "axis2.title.set_text('DayofWeek vs.Sales')\n",
        "sns.barplot(x='StoreType', y='Sales', data=train_store, ax=axis1)\n",
        "sns.barplot(x='DayOfWeek', y='Sales', data=train_store, ax=axis2)"
      ],
      "metadata": {
        "execution": {
          "iopub.status.busy": "2022-03-30T16:51:34.229685Z",
          "iopub.execute_input": "2022-03-30T16:51:34.230663Z",
          "iopub.status.idle": "2022-03-30T16:51:52.376105Z",
          "shell.execute_reply.started": "2022-03-30T16:51:34.230615Z",
          "shell.execute_reply": "2022-03-30T16:51:52.375203Z"
        },
        "trusted": true,
        "id": "7WyKHlPsl4_H"
      },
      "execution_count": null,
      "outputs": []
    },
    {
      "cell_type": "code",
      "source": [
        "fig, (axis1,axis2) = plt.subplots(1,2,figsize=(15,4))\n",
        "axis1.title.set_text('Promo2 vs.Sales')\n",
        "axis2.title.set_text('Promo2SinceYear vs.Sales')\n",
        "sns.barplot(x='Promo2', y='Sales', data=train_store, ax=axis1)\n",
        "sns.barplot(x='Promo2SinceYear', y='Sales', data=train_store.loc[train_store['Promo2'] != 0], ax=axis2)"
      ],
      "metadata": {
        "execution": {
          "iopub.status.busy": "2022-03-30T16:51:52.377223Z",
          "iopub.execute_input": "2022-03-30T16:51:52.377478Z",
          "iopub.status.idle": "2022-03-30T16:52:08.115481Z",
          "shell.execute_reply.started": "2022-03-30T16:51:52.377448Z",
          "shell.execute_reply": "2022-03-30T16:52:08.114809Z"
        },
        "trusted": true,
        "id": "QX6nJnIvl4_H"
      },
      "execution_count": null,
      "outputs": []
    },
    {
      "cell_type": "markdown",
      "source": [
        "**Sales & years**"
      ],
      "metadata": {
        "id": "tJyclYqjl4_H"
      }
    },
    {
      "cell_type": "code",
      "source": [
        "train_store.hist(column='Sales', by='Year', bins=30)\n",
        "plt.show()"
      ],
      "metadata": {
        "execution": {
          "iopub.status.busy": "2022-03-30T16:52:08.116406Z",
          "iopub.execute_input": "2022-03-30T16:52:08.116767Z",
          "iopub.status.idle": "2022-03-30T16:52:08.644891Z",
          "shell.execute_reply.started": "2022-03-30T16:52:08.116738Z",
          "shell.execute_reply": "2022-03-30T16:52:08.643208Z"
        },
        "trusted": true,
        "id": "tGJVqL-Fl4_I"
      },
      "execution_count": null,
      "outputs": []
    },
    {
      "cell_type": "markdown",
      "source": [
        "**Sales & months**"
      ],
      "metadata": {
        "id": "nlq2RDH8l4_I"
      }
    },
    {
      "cell_type": "code",
      "source": [
        "train_store.hist(column='Sales', by='Month', bins=30)\n",
        "plt.show()"
      ],
      "metadata": {
        "execution": {
          "iopub.status.busy": "2022-03-30T16:52:08.646122Z",
          "iopub.execute_input": "2022-03-30T16:52:08.646453Z",
          "iopub.status.idle": "2022-03-30T16:52:10.422688Z",
          "shell.execute_reply.started": "2022-03-30T16:52:08.646405Z",
          "shell.execute_reply": "2022-03-30T16:52:10.421774Z"
        },
        "trusted": true,
        "id": "J9WqcOqWl4_I"
      },
      "execution_count": null,
      "outputs": []
    },
    {
      "cell_type": "markdown",
      "source": [
        "**Effect of distance of the nearest store**"
      ],
      "metadata": {
        "id": "Kaw2doshl4_I"
      }
    },
    {
      "cell_type": "code",
      "source": [
        "train_store.hist(column='CompetitionDistance', bins=30)\n",
        "plt.show()"
      ],
      "metadata": {
        "execution": {
          "iopub.status.busy": "2022-03-30T16:52:10.424061Z",
          "iopub.execute_input": "2022-03-30T16:52:10.424463Z",
          "iopub.status.idle": "2022-03-30T16:52:10.706109Z",
          "shell.execute_reply.started": "2022-03-30T16:52:10.424416Z",
          "shell.execute_reply": "2022-03-30T16:52:10.705174Z"
        },
        "trusted": true,
        "id": "yIUTu_Pgl4_I"
      },
      "execution_count": null,
      "outputs": []
    },
    {
      "cell_type": "markdown",
      "source": [
        "# ***MODELING***"
      ],
      "metadata": {
        "id": "Mgvt5yz_l4_J"
      }
    },
    {
      "cell_type": "code",
      "source": [
        "train_store.columns.values"
      ],
      "metadata": {
        "execution": {
          "iopub.status.busy": "2022-03-30T16:52:10.707723Z",
          "iopub.execute_input": "2022-03-30T16:52:10.708358Z",
          "iopub.status.idle": "2022-03-30T16:52:10.717405Z",
          "shell.execute_reply.started": "2022-03-30T16:52:10.708311Z",
          "shell.execute_reply": "2022-03-30T16:52:10.716364Z"
        },
        "trusted": true,
        "id": "qpSFopHjl4_J"
      },
      "execution_count": null,
      "outputs": []
    },
    {
      "cell_type": "code",
      "source": [
        "test_store.columns.values"
      ],
      "metadata": {
        "execution": {
          "iopub.status.busy": "2022-03-30T16:52:10.718934Z",
          "iopub.execute_input": "2022-03-30T16:52:10.719361Z",
          "iopub.status.idle": "2022-03-30T16:52:10.729376Z",
          "shell.execute_reply.started": "2022-03-30T16:52:10.719319Z",
          "shell.execute_reply": "2022-03-30T16:52:10.728517Z"
        },
        "trusted": true,
        "id": "TshOxDUal4_J"
      },
      "execution_count": null,
      "outputs": []
    },
    {
      "cell_type": "code",
      "source": [
        "train_model = train_store.drop(['Customers', 'Date'], axis=1)\n",
        "train_model['Year'] = train_model['Year'].max() - train_model['Year']\n",
        "print(train_model.head())"
      ],
      "metadata": {
        "execution": {
          "iopub.status.busy": "2022-03-30T16:52:10.730935Z",
          "iopub.execute_input": "2022-03-30T16:52:10.731642Z",
          "iopub.status.idle": "2022-03-30T16:52:10.815237Z",
          "shell.execute_reply.started": "2022-03-30T16:52:10.731602Z",
          "shell.execute_reply": "2022-03-30T16:52:10.814401Z"
        },
        "trusted": true,
        "id": "OIOdg1w3l4_J"
      },
      "execution_count": null,
      "outputs": []
    },
    {
      "cell_type": "code",
      "source": [
        "test_model = test_store.drop(['Date'], axis=1)\n",
        "test_model['Year'] = test_model['Year'].max() - test_model['Year']\n",
        "print(test_model.head())"
      ],
      "metadata": {
        "execution": {
          "iopub.status.busy": "2022-03-30T16:52:10.816825Z",
          "iopub.execute_input": "2022-03-30T16:52:10.817128Z",
          "iopub.status.idle": "2022-03-30T16:52:10.83699Z",
          "shell.execute_reply.started": "2022-03-30T16:52:10.817087Z",
          "shell.execute_reply": "2022-03-30T16:52:10.836334Z"
        },
        "trusted": true,
        "id": "_vKqv5Ocl4_K"
      },
      "execution_count": null,
      "outputs": []
    },
    {
      "cell_type": "code",
      "source": [
        "test_model_open = test_model.loc[test_model['Open'] == 1]\n",
        "test_model_open = test_model_open.drop('Open', axis=1)\n",
        "\n",
        "test_model_close = test_model.loc[test_model['Open'] == 0]\n",
        "\n",
        "test_model_open.head()"
      ],
      "metadata": {
        "execution": {
          "iopub.status.busy": "2022-03-30T16:52:10.838145Z",
          "iopub.execute_input": "2022-03-30T16:52:10.838496Z",
          "iopub.status.idle": "2022-03-30T16:52:10.865807Z",
          "shell.execute_reply.started": "2022-03-30T16:52:10.838461Z",
          "shell.execute_reply": "2022-03-30T16:52:10.865234Z"
        },
        "trusted": true,
        "id": "-eZr6Q3el4_K"
      },
      "execution_count": null,
      "outputs": []
    },
    {
      "cell_type": "code",
      "source": [
        "test_model_open.isnull().sum()"
      ],
      "metadata": {
        "execution": {
          "iopub.status.busy": "2022-03-30T16:52:10.866848Z",
          "iopub.execute_input": "2022-03-30T16:52:10.867192Z",
          "iopub.status.idle": "2022-03-30T16:52:10.875252Z",
          "shell.execute_reply.started": "2022-03-30T16:52:10.867163Z",
          "shell.execute_reply": "2022-03-30T16:52:10.874599Z"
        },
        "trusted": true,
        "id": "nsRVpY3-l4_K"
      },
      "execution_count": null,
      "outputs": []
    },
    {
      "cell_type": "code",
      "source": [
        "from sklearn.model_selection import train_test_split\n",
        "X = train_model.drop('Sales', axis=1)\n",
        "y = train_model['Sales']\n",
        "X_train, X_test, y_train, y_test = train_test_split(X, y, random_state=42)"
      ],
      "metadata": {
        "execution": {
          "iopub.status.busy": "2022-03-30T16:52:10.876441Z",
          "iopub.execute_input": "2022-03-30T16:52:10.877205Z",
          "iopub.status.idle": "2022-03-30T16:52:11.243008Z",
          "shell.execute_reply.started": "2022-03-30T16:52:10.877171Z",
          "shell.execute_reply": "2022-03-30T16:52:11.242098Z"
        },
        "trusted": true,
        "id": "Lrt7N8b8l4_K"
      },
      "execution_count": null,
      "outputs": []
    },
    {
      "cell_type": "code",
      "source": [
        "from sklearn.preprocessing import StandardScaler\n",
        "scaler = StandardScaler()\n",
        "\n",
        "scaler.fit(X_train)\n",
        "\n",
        "X_train_scaled = pd.DataFrame(scaler.transform(X_train),\n",
        "                                  columns=X_train.columns.values)\n",
        "\n",
        "X_test_scaled = pd.DataFrame(scaler.transform(X_test),\n",
        "                                  columns=X_train.columns.values)\n"
      ],
      "metadata": {
        "execution": {
          "iopub.status.busy": "2022-03-30T16:52:11.244351Z",
          "iopub.execute_input": "2022-03-30T16:52:11.244692Z",
          "iopub.status.idle": "2022-03-30T16:52:11.669443Z",
          "shell.execute_reply.started": "2022-03-30T16:52:11.244632Z",
          "shell.execute_reply": "2022-03-30T16:52:11.668617Z"
        },
        "trusted": true,
        "id": "mck7UA3xl4_L"
      },
      "execution_count": null,
      "outputs": []
    },
    {
      "cell_type": "code",
      "source": [
        "X_train2 = X_train\n",
        "X_train2 = X_train2.drop('CompetitionOpenSinceYear', axis=1)\n",
        "\n",
        "X_test2 = X_test\n",
        "\n",
        "X_test2 = X_test2.drop('CompetitionOpenSinceYear', axis=1)\n",
        "\n",
        "test_model2 = test_model\n",
        "\n",
        "test_model2 = test_model2.drop('CompetitionOpenSinceYear', axis=1)"
      ],
      "metadata": {
        "execution": {
          "iopub.status.busy": "2022-03-30T16:52:11.670651Z",
          "iopub.execute_input": "2022-03-30T16:52:11.670907Z",
          "iopub.status.idle": "2022-03-30T16:52:11.725661Z",
          "shell.execute_reply.started": "2022-03-30T16:52:11.670878Z",
          "shell.execute_reply": "2022-03-30T16:52:11.724593Z"
        },
        "trusted": true,
        "id": "SgQBgbvql4_L"
      },
      "execution_count": null,
      "outputs": []
    },
    {
      "cell_type": "code",
      "source": [
        "X_train2.shape"
      ],
      "metadata": {
        "execution": {
          "iopub.status.busy": "2022-03-30T16:52:11.727183Z",
          "iopub.execute_input": "2022-03-30T16:52:11.727765Z",
          "iopub.status.idle": "2022-03-30T16:52:11.739212Z",
          "shell.execute_reply.started": "2022-03-30T16:52:11.727716Z",
          "shell.execute_reply": "2022-03-30T16:52:11.738224Z"
        },
        "trusted": true,
        "id": "2xiYDlChl4_L"
      },
      "execution_count": null,
      "outputs": []
    },
    {
      "cell_type": "code",
      "source": [
        "X_train.shape"
      ],
      "metadata": {
        "execution": {
          "iopub.status.busy": "2022-03-30T16:52:11.74079Z",
          "iopub.execute_input": "2022-03-30T16:52:11.741114Z",
          "iopub.status.idle": "2022-03-30T16:52:11.750895Z",
          "shell.execute_reply.started": "2022-03-30T16:52:11.741073Z",
          "shell.execute_reply": "2022-03-30T16:52:11.750038Z"
        },
        "trusted": true,
        "id": "tSUUOHS0l4_L"
      },
      "execution_count": null,
      "outputs": []
    },
    {
      "cell_type": "markdown",
      "source": [
        "***Régression linéaire***"
      ],
      "metadata": {
        "id": "3dtOA1nGl4_L"
      }
    },
    {
      "cell_type": "code",
      "source": [
        "#entrainement du modèle Régression linéaire\n",
        "from sklearn.linear_model import LinearRegression\n",
        "from sklearn.metrics import mean_squared_error\n",
        "from sklearn.metrics import r2_score\n",
        " \n",
        "lmodellineaire = LinearRegression()\n",
        "lmodellineaire.fit(X_train, y_train)\n",
        " \n",
        "# model evaluation for testing set\n",
        "y_test_predict = lmodellineaire.predict(X_test)\n",
        "rmse = (np.sqrt(mean_squared_error(y_test, y_test_predict)))\n",
        "r2 = r2_score(y_test, y_test_predict)\n",
        " \n",
        "print('La performance du modèle sur la base de test')\n",
        "print('--------------------------------------')\n",
        "print('L erreur quadratique moyenne est {}'.format(rmse))\n",
        "print('le score R2 est {}'.format(r2))\n",
        "\n",
        "Y_test_RL_predict = lmodellineaire.predict(test_model)"
      ],
      "metadata": {
        "execution": {
          "iopub.status.busy": "2022-03-30T16:52:11.752353Z",
          "iopub.execute_input": "2022-03-30T16:52:11.752687Z",
          "iopub.status.idle": "2022-03-30T16:52:12.27466Z",
          "shell.execute_reply.started": "2022-03-30T16:52:11.752643Z",
          "shell.execute_reply": "2022-03-30T16:52:12.273395Z"
        },
        "trusted": true,
        "id": "E3gWb_HSl4_L"
      },
      "execution_count": null,
      "outputs": []
    },
    {
      "cell_type": "code",
      "source": [
        "print(Y_test_RL_predict)"
      ],
      "metadata": {
        "execution": {
          "iopub.status.busy": "2022-03-30T16:52:12.276534Z",
          "iopub.execute_input": "2022-03-30T16:52:12.27698Z",
          "iopub.status.idle": "2022-03-30T16:52:12.29063Z",
          "shell.execute_reply.started": "2022-03-30T16:52:12.27693Z",
          "shell.execute_reply": "2022-03-30T16:52:12.289324Z"
        },
        "trusted": true,
        "id": "ZaPFMddbl4_M"
      },
      "execution_count": null,
      "outputs": []
    },
    {
      "cell_type": "markdown",
      "source": [
        "**RandomForest**"
      ],
      "metadata": {
        "id": "qWLU0UKol4_M"
      }
    },
    {
      "cell_type": "code",
      "source": [
        "from sklearn.ensemble import RandomForestRegressor\n",
        "rf = RandomForestRegressor(n_jobs=-1, random_state=42)\n",
        "rf.fit(X_train, y_train)"
      ],
      "metadata": {
        "execution": {
          "iopub.status.busy": "2022-03-30T16:52:12.293335Z",
          "iopub.execute_input": "2022-03-30T16:52:12.293636Z",
          "iopub.status.idle": "2022-03-30T16:54:27.962555Z",
          "shell.execute_reply.started": "2022-03-30T16:52:12.293595Z",
          "shell.execute_reply": "2022-03-30T16:54:27.958955Z"
        },
        "trusted": true,
        "id": "t6OBaD14l4_M"
      },
      "execution_count": null,
      "outputs": []
    },
    {
      "cell_type": "code",
      "source": [
        "rf.score(X_test, y_test)"
      ],
      "metadata": {
        "execution": {
          "iopub.status.busy": "2022-03-30T16:54:27.966465Z",
          "iopub.status.idle": "2022-03-30T16:54:27.966997Z",
          "shell.execute_reply.started": "2022-03-30T16:54:27.966729Z",
          "shell.execute_reply": "2022-03-30T16:54:27.96676Z"
        },
        "trusted": true,
        "id": "BjEnyPOEl4_M"
      },
      "execution_count": null,
      "outputs": []
    },
    {
      "cell_type": "code",
      "source": [
        "Y_test_RF_predict = rf.predict(test_model)\n",
        "print(Y_test_RF_predict)"
      ],
      "metadata": {
        "execution": {
          "iopub.status.busy": "2022-03-30T16:54:27.973472Z",
          "iopub.status.idle": "2022-03-30T16:54:27.974015Z",
          "shell.execute_reply.started": "2022-03-30T16:54:27.97374Z",
          "shell.execute_reply": "2022-03-30T16:54:27.973767Z"
        },
        "trusted": true,
        "id": "d2b5ZJzKl4_M"
      },
      "execution_count": null,
      "outputs": []
    },
    {
      "cell_type": "markdown",
      "source": [
        "**Decission Tree**"
      ],
      "metadata": {
        "id": "Z7CfHEMPl4_M"
      }
    },
    {
      "cell_type": "code",
      "source": [
        "#Fitting Decision Tree Regressor to the training set  \n",
        "from sklearn.tree import DecisionTreeRegressor\n",
        "classifier= DecisionTreeRegressor(random_state=44)  \n",
        "classifier.fit(X_train2, y_train)  \n",
        "classifier.score(X_test2,y_test)"
      ],
      "metadata": {
        "execution": {
          "iopub.status.busy": "2022-03-30T16:54:27.980881Z",
          "iopub.status.idle": "2022-03-30T16:54:27.981424Z",
          "shell.execute_reply.started": "2022-03-30T16:54:27.98114Z",
          "shell.execute_reply": "2022-03-30T16:54:27.981168Z"
        },
        "trusted": true,
        "id": "te7EIlhPl4_M"
      },
      "execution_count": null,
      "outputs": []
    },
    {
      "cell_type": "code",
      "source": [
        "Y_test_DT_predict = classifier.predict(test_model2)  \n",
        "print(Y_test_DT_predict)"
      ],
      "metadata": {
        "execution": {
          "iopub.status.busy": "2022-03-30T16:54:27.987925Z",
          "iopub.status.idle": "2022-03-30T16:54:27.988493Z",
          "shell.execute_reply.started": "2022-03-30T16:54:27.988193Z",
          "shell.execute_reply": "2022-03-30T16:54:27.988219Z"
        },
        "trusted": true,
        "id": "72FB8rexl4_N"
      },
      "execution_count": null,
      "outputs": []
    },
    {
      "cell_type": "code",
      "source": [
        "test_model['Sales'] = Y_test_RL_predict\n",
        "submission1 = test_model['Sales']\n",
        "submission1 = submission1.reset_index()\n",
        "\n",
        "#test_store = test.reset_index().merge(store2, how = 'left', on='Store').set_index('Id')"
      ],
      "metadata": {
        "execution": {
          "iopub.status.busy": "2022-03-30T16:54:27.990187Z",
          "iopub.status.idle": "2022-03-30T16:54:27.990914Z",
          "shell.execute_reply.started": "2022-03-30T16:54:27.990629Z",
          "shell.execute_reply": "2022-03-30T16:54:27.990662Z"
        },
        "trusted": true,
        "id": "hO86x6AFl4_N"
      },
      "execution_count": null,
      "outputs": []
    },
    {
      "cell_type": "code",
      "source": [
        "test_model = test_model.drop(['Sales'], axis=1)"
      ],
      "metadata": {
        "execution": {
          "iopub.status.busy": "2022-03-30T16:54:27.992308Z",
          "iopub.status.idle": "2022-03-30T16:54:27.992932Z",
          "shell.execute_reply.started": "2022-03-30T16:54:27.992675Z",
          "shell.execute_reply": "2022-03-30T16:54:27.992704Z"
        },
        "trusted": true,
        "id": "3bQqZ1Rcl4_N"
      },
      "execution_count": null,
      "outputs": []
    },
    {
      "cell_type": "code",
      "source": [
        "test_model['Sales'] = Y_test_RF_predict\n",
        "submission2 = test_model['Sales']\n",
        "submission2 = submission2.reset_index()"
      ],
      "metadata": {
        "execution": {
          "iopub.status.busy": "2022-03-30T16:54:27.999676Z",
          "iopub.status.idle": "2022-03-30T16:54:28.000468Z",
          "shell.execute_reply.started": "2022-03-30T16:54:28.000156Z",
          "shell.execute_reply": "2022-03-30T16:54:28.000186Z"
        },
        "trusted": true,
        "id": "wsmV33Eal4_N"
      },
      "execution_count": null,
      "outputs": []
    },
    {
      "cell_type": "code",
      "source": [
        "test_model = test_model.drop(['Sales'], axis=1)"
      ],
      "metadata": {
        "execution": {
          "iopub.status.busy": "2022-03-30T16:54:28.001805Z",
          "iopub.status.idle": "2022-03-30T16:54:28.002403Z",
          "shell.execute_reply.started": "2022-03-30T16:54:28.002152Z",
          "shell.execute_reply": "2022-03-30T16:54:28.002177Z"
        },
        "trusted": true,
        "id": "9muxxo8ul4_N"
      },
      "execution_count": null,
      "outputs": []
    },
    {
      "cell_type": "code",
      "source": [
        "test_model['Sales'] = Y_test_DT_predict\n",
        "submission3 = test_model['Sales']\n",
        "submission3 = submission3.reset_index()"
      ],
      "metadata": {
        "execution": {
          "iopub.status.busy": "2022-03-30T16:54:28.003914Z",
          "iopub.status.idle": "2022-03-30T16:54:28.004654Z",
          "shell.execute_reply.started": "2022-03-30T16:54:28.004388Z",
          "shell.execute_reply": "2022-03-30T16:54:28.004415Z"
        },
        "trusted": true,
        "id": "e_sITiuxl4_N"
      },
      "execution_count": null,
      "outputs": []
    },
    {
      "cell_type": "code",
      "source": [
        "test_model = test_model.drop(['Sales'], axis=1)"
      ],
      "metadata": {
        "execution": {
          "iopub.status.busy": "2022-03-30T16:54:28.005928Z",
          "iopub.status.idle": "2022-03-30T16:54:28.016805Z",
          "shell.execute_reply.started": "2022-03-30T16:54:28.016378Z",
          "shell.execute_reply": "2022-03-30T16:54:28.016433Z"
        },
        "trusted": true,
        "id": "uAwSko4Il4_O"
      },
      "execution_count": null,
      "outputs": []
    },
    {
      "cell_type": "code",
      "source": [
        "submission1.tail()"
      ],
      "metadata": {
        "execution": {
          "iopub.status.busy": "2022-03-30T16:54:28.018452Z",
          "iopub.status.idle": "2022-03-30T16:54:28.019166Z",
          "shell.execute_reply.started": "2022-03-30T16:54:28.018867Z",
          "shell.execute_reply": "2022-03-30T16:54:28.018895Z"
        },
        "trusted": true,
        "id": "bxUojdoWl4_O"
      },
      "execution_count": null,
      "outputs": []
    },
    {
      "cell_type": "code",
      "source": [
        "submission2.tail()"
      ],
      "metadata": {
        "execution": {
          "iopub.status.busy": "2022-03-30T16:54:28.020689Z",
          "iopub.status.idle": "2022-03-30T16:54:28.021372Z",
          "shell.execute_reply.started": "2022-03-30T16:54:28.02109Z",
          "shell.execute_reply": "2022-03-30T16:54:28.021117Z"
        },
        "trusted": true,
        "id": "7VFBrtGil4_O"
      },
      "execution_count": null,
      "outputs": []
    },
    {
      "cell_type": "code",
      "source": [
        "submission3.tail()"
      ],
      "metadata": {
        "execution": {
          "iopub.status.busy": "2022-03-30T16:54:28.022825Z",
          "iopub.status.idle": "2022-03-30T16:54:28.023427Z",
          "shell.execute_reply.started": "2022-03-30T16:54:28.023176Z",
          "shell.execute_reply": "2022-03-30T16:54:28.023202Z"
        },
        "trusted": true,
        "id": "94PBCOpyl4_O"
      },
      "execution_count": null,
      "outputs": []
    },
    {
      "cell_type": "code",
      "source": [
        "submission1.to_csv(\"./submission_open1.csv\", sep=',', index=False)"
      ],
      "metadata": {
        "execution": {
          "iopub.status.busy": "2022-03-30T16:54:28.024694Z",
          "iopub.status.idle": "2022-03-30T16:54:28.025315Z",
          "shell.execute_reply.started": "2022-03-30T16:54:28.025046Z",
          "shell.execute_reply": "2022-03-30T16:54:28.025072Z"
        },
        "trusted": true,
        "id": "yGDaZPl0l4_O"
      },
      "execution_count": null,
      "outputs": []
    },
    {
      "cell_type": "code",
      "source": [
        "submission2.to_csv(\"./submission_open2.csv\", sep=',', index=False)"
      ],
      "metadata": {
        "execution": {
          "iopub.status.busy": "2022-03-30T16:54:28.026483Z",
          "iopub.status.idle": "2022-03-30T16:54:28.02707Z",
          "shell.execute_reply.started": "2022-03-30T16:54:28.026811Z",
          "shell.execute_reply": "2022-03-30T16:54:28.026836Z"
        },
        "trusted": true,
        "id": "jrkqvt_2l4_O"
      },
      "execution_count": null,
      "outputs": []
    },
    {
      "cell_type": "code",
      "source": [
        "submission3.to_csv(\"./submission_open3.csv\", sep=',', index=False)"
      ],
      "metadata": {
        "execution": {
          "iopub.status.busy": "2022-03-30T16:54:28.028293Z",
          "iopub.status.idle": "2022-03-30T16:54:28.028853Z",
          "shell.execute_reply.started": "2022-03-30T16:54:28.028622Z",
          "shell.execute_reply": "2022-03-30T16:54:28.028646Z"
        },
        "trusted": true,
        "id": "7vaEQM7fl4_P"
      },
      "execution_count": null,
      "outputs": []
    },
    {
      "cell_type": "code",
      "source": [
        "train_model.to_csv(\"/kaggle/working/train_model.csv\", sep=',', index=False)"
      ],
      "metadata": {
        "execution": {
          "iopub.status.busy": "2022-03-30T16:54:28.039702Z",
          "iopub.status.idle": "2022-03-30T16:54:28.040475Z",
          "shell.execute_reply.started": "2022-03-30T16:54:28.040169Z",
          "shell.execute_reply": "2022-03-30T16:54:28.040201Z"
        },
        "trusted": true,
        "id": "kHS5hR6Hl4_P"
      },
      "execution_count": null,
      "outputs": []
    },
    {
      "cell_type": "code",
      "source": [
        "test_model.reset_index().to_csv(\"./test_model.csv\", sep=',', index=False)"
      ],
      "metadata": {
        "execution": {
          "iopub.status.busy": "2022-03-30T16:54:28.041724Z",
          "iopub.status.idle": "2022-03-30T16:54:28.042334Z",
          "shell.execute_reply.started": "2022-03-30T16:54:28.042084Z",
          "shell.execute_reply": "2022-03-30T16:54:28.042109Z"
        },
        "trusted": true,
        "id": "edCkzqGll4_P"
      },
      "execution_count": null,
      "outputs": []
    }
  ]
}